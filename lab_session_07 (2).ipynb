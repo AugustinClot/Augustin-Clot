{
 "cells": [
  {
   "cell_type": "markdown",
   "metadata": {},
   "source": [
    "Make sure you fill in any place that says `YOUR CODE HERE` or \"YOUR ANSWER HERE\".\n",
    "\n",
    "Before you turn this problem in, make sure everything runs as expected. First, **restart the kernel** (in the menubar, select Kernel$\\rightarrow$Restart) and then **run all cells** (in the menubar, select Cell$\\rightarrow$Run All). On JupyterLab, you may want to hit the \"Validate\" button as well.\n",
    "\n",
    "Caution: do not mess with the notebook's metadata; do not change a pre-existing cell's type; do not copy pre-existing cells (add new ones with the + button instead). This will break autograding; you will get a 0; you are warned."
   ]
  },
  {
   "cell_type": "markdown",
   "metadata": {},
   "source": [
    "<table style=\"width: 100%; border: none;\" cellspacing=\"0\" cellpadding=\"0\" border=\"0\">\n",
    "  <tr>\n",
    "    <td><img src=\"https://www.planetegrandesecoles.com/wp-content/uploads/2021/07/Identite%CC%81-visuelle-Plane%CC%80te-BAC-8-600x398.png\" style=\"float: left; width: 100%\" />\n",
    "</td>\n",
    "    <td><a style=\"font-size: 3em; text-align: center; vertical-align: middle;\" href=\"https://moodle.polytechnique.fr/course/view.php?id=17527\">[CSE204-2023] - Introduction to Machine Learning</a>\n",
    "</td>\n",
    "  </tr>\n",
    "</table>"
   ]
  },
  {
   "cell_type": "markdown",
   "metadata": {
    "colab_type": "text",
    "deletable": false,
    "editable": false,
    "id": "5YuK2f4u_CzI",
    "nbgrader": {
     "cell_type": "markdown",
     "checksum": "e93ac9db613d3b4de58fb9b57c21506e",
     "grade": false,
     "grade_id": "cell-d65e9154014fb110",
     "locked": true,
     "schema_version": 3,
     "solution": false,
     "task": false
    }
   },
   "source": [
    "<a style=\"font-size: 3em;\">Lab Session 7: Building a Neural Network From Scratch - Backpropagation</a>\n",
    "\n",
    "J.B. Scoggins - Adrien Ehrhardt - Johannes Lutzeyer"
   ]
  },
  {
   "cell_type": "markdown",
   "metadata": {
    "deletable": false,
    "editable": false,
    "nbgrader": {
     "cell_type": "markdown",
     "checksum": "eb10c054e8d9d9930bd5f2cffef6e096",
     "grade": false,
     "grade_id": "cell-5aa6abed17fe1b9f",
     "locked": true,
     "schema_version": 3,
     "solution": false,
     "task": false
    }
   },
   "source": [
    "This lab is a direct follow-up of Lab session #06 on Neural networks. We will now make the network trainable and... train it!"
   ]
  },
  {
   "cell_type": "markdown",
   "metadata": {
    "deletable": false,
    "editable": false,
    "nbgrader": {
     "cell_type": "markdown",
     "checksum": "74e058a8d83403d24e2860765824a50a",
     "grade": false,
     "grade_id": "cell-f77480ed47c9c6c4",
     "locked": true,
     "schema_version": 3,
     "solution": false,
     "task": false
    }
   },
   "source": [
    "# Recall last lab's notations\n",
    "\n",
    "We will consider simple feed-forward networks that can be described by the following recursive relationship,\n",
    "\n",
    "$$\n",
    "\\begin{align}\n",
    "&z^l = a^{l-1} W^l + b^l,\\\\\n",
    "&a^l = \\sigma^l(z^l),\n",
    "\\end{align}\n",
    "$$\n",
    "\n",
    "where $a^l$ is the output (activation) of layer $l$ which is a nonlinear function $\\sigma^l$ of a linear transformation of the previous layer's output.  The linear transformation is performed using the weight matrix $W^l$ and bias vector $b^l$ associated with the layer $l$.  We will denote the last layer in the network with a capital $L$ superscript.  The recursion is stopped by setting $a^0 = x$, where $x$ is the input vector to our network.  Note that in the recursive expressions above, we implicitly assume that our input/output vectors are row vectors.  The reason for this will be evident later.\n",
    "\n",
    "Taking this notation into account, we see that a network with $L-1$ hidden layers is fully expressed by its $L$ weight matrices, bias vectors, and activation functions.  We can denote the set of trainable parameters in our network by $\\theta = \\{ W^1, \\dots, W^L, b^1, \\dots, b^L \\}$.\n",
    "\n",
    "In this lab, we are only concerned with supervised learning tasks.  Recall that in supervised learning, we have a dataset represented by a list of $(x, y)$ pairs where $x$ is the input to our model and $y$ is the desired output.\n",
    "\n",
    "- For regression problems where we want to fit a function $y = f(x)$, $x$ is the independent variable vector, and $y$ is the function value.\n",
    "- In classification problems, $x$ will correspond to a set of attributes and $y$ the corresponding label.\n",
    "\n",
    "The goal of supervised learning is to \"train\" our network by adjusting its parameters in order to minimize a cost function over the entire training set,\n",
    "\n",
    "$$\n",
    "\\min_\\theta \\mathcal{L} = \\min_\\theta \\sum_{i=1}^N \\ell^{(i)}\n",
    "$$\n",
    "\n",
    "where $\\ell^{(i)} = \\ell(\\sigma^L(\\sigma^{L-1}(\\dots(x^{(i)}W^1 + b^1)\\dots)W^L + b^L), y^{(i)})$ and $\\ell(\\hat{y}, y)$ denotes the particular form of the loss function being considered.  In this lab, we will use 2 different loss functions:\n",
    "\n",
    "1. Quadratic Loss: $\\ell(\\hat{y}, y) = \\|\\hat{y} - y\\|^2$\n",
    "2. Cross-entropy Loss: $\\ell(\\hat{y}, y) = -[ y \\ln\\hat{y} + (1-y)\\ln(1-\\hat{y})]$"
   ]
  },
  {
   "cell_type": "code",
   "execution_count": 1,
   "metadata": {
    "deletable": false,
    "editable": false,
    "nbgrader": {
     "cell_type": "code",
     "checksum": "829490989c7f49ba0166c35a33b9e904",
     "grade": false,
     "grade_id": "cell-6ebb9d1d9c52b727",
     "locked": true,
     "schema_version": 3,
     "solution": false,
     "task": false
    }
   },
   "outputs": [
    {
     "name": "stderr",
     "output_type": "stream",
     "text": [
      "2024-04-10 23:36:23.017643: E external/local_xla/xla/stream_executor/cuda/cuda_dnn.cc:9261] Unable to register cuDNN factory: Attempting to register factory for plugin cuDNN when one has already been registered\n",
      "2024-04-10 23:36:23.017668: E external/local_xla/xla/stream_executor/cuda/cuda_fft.cc:607] Unable to register cuFFT factory: Attempting to register factory for plugin cuFFT when one has already been registered\n",
      "2024-04-10 23:36:23.018367: E external/local_xla/xla/stream_executor/cuda/cuda_blas.cc:1515] Unable to register cuBLAS factory: Attempting to register factory for plugin cuBLAS when one has already been registered\n",
      "2024-04-10 23:36:23.022784: I tensorflow/core/platform/cpu_feature_guard.cc:182] This TensorFlow binary is optimized to use available CPU instructions in performance-critical operations.\n",
      "To enable the following instructions: AVX2 FMA, in other operations, rebuild TensorFlow with the appropriate compiler flags.\n",
      "2024-04-10 23:36:23.999265: W tensorflow/compiler/tf2tensorrt/utils/py_utils.cc:38] TF-TRT Warning: Could not find TensorRT\n"
     ]
    }
   ],
   "source": [
    "import gzip\n",
    "import numpy as np\n",
    "import matplotlib.pyplot as plt\n",
    "import tensorflow as tf"
   ]
  },
  {
   "cell_type": "markdown",
   "metadata": {
    "deletable": false,
    "editable": false,
    "nbgrader": {
     "cell_type": "markdown",
     "checksum": "7e745a56a2e2490e2fc33cf3113840df",
     "grade": false,
     "grade_id": "cell-e0ce032d0410b348",
     "locked": true,
     "schema_version": 3,
     "solution": false,
     "task": false
    }
   },
   "source": [
    "Here are the activations classes you (hopefully) managed to implement last week:"
   ]
  },
  {
   "cell_type": "code",
   "execution_count": 2,
   "metadata": {
    "deletable": false,
    "editable": false,
    "nbgrader": {
     "cell_type": "code",
     "checksum": "1f129bd98170c89695b4e764f65e7ddc",
     "grade": false,
     "grade_id": "cell-2e649226bc023e51",
     "locked": true,
     "schema_version": 3,
     "solution": false,
     "task": false
    }
   },
   "outputs": [],
   "source": [
    "class Activation(object):\n",
    "    \"\"\"\n",
    "    Base activation node class\n",
    "    \"\"\"\n",
    "\n",
    "    def __new__(self, x: np.array) -> np.array:\n",
    "        \"\"\"\n",
    "        What to do when instantiating an object: this basically says Activation(x)\n",
    "        will be equivalent to Activation()(x).\n",
    "\n",
    "        :param numpy.array x: input of the activation\n",
    "        :return: call the activation function\n",
    "        :rtype: numpy.array\n",
    "        \"\"\"\n",
    "        return self.__call__(x)"
   ]
  },
  {
   "cell_type": "code",
   "execution_count": 3,
   "metadata": {
    "deletable": false,
    "editable": false,
    "nbgrader": {
     "cell_type": "code",
     "checksum": "f6855b44932141c591e8d2774ff4a32f",
     "grade": false,
     "grade_id": "cell-3ee859296687382e",
     "locked": true,
     "schema_version": 3,
     "solution": false,
     "task": false
    }
   },
   "outputs": [],
   "source": [
    "class Identity(Activation):\n",
    "    \"\"\"\n",
    "    Identity activation node\n",
    "    \"\"\"\n",
    "\n",
    "    @staticmethod\n",
    "    def __call__(x: np.array) -> np.array:\n",
    "        \"\"\"\n",
    "        Implements the identity activation function\n",
    "\n",
    "        :param np.array x: input of the activation\n",
    "        :return: identity of input\n",
    "        :rtype: np.array\n",
    "        \"\"\"\n",
    "        return x\n",
    "\n",
    "    @staticmethod\n",
    "    def prime(x: np.array) -> np.array:\n",
    "        \"\"\"\n",
    "        Implements the derivative of the identity activation function\n",
    "\n",
    "        :param numpy.array: input of the activation\n",
    "        :return: derivative of input\n",
    "        :rtype: numpy.array\n",
    "        \"\"\"\n",
    "        return np.ones_like(x)"
   ]
  },
  {
   "cell_type": "code",
   "execution_count": 4,
   "metadata": {
    "deletable": false,
    "editable": false,
    "nbgrader": {
     "cell_type": "code",
     "checksum": "f9e854508e61d265fc7cca3b8264a37d",
     "grade": false,
     "grade_id": "cell-08e8b8388a837157",
     "locked": true,
     "schema_version": 3,
     "solution": false,
     "task": false
    }
   },
   "outputs": [],
   "source": [
    "class Threshold(Activation):\n",
    "    \"\"\"\n",
    "    Threshold activation node\n",
    "    \"\"\"\n",
    "\n",
    "    @staticmethod\n",
    "    def __call__(x: np.array) -> np.array:\n",
    "        \"\"\"\n",
    "        Implements the threshold activation function\n",
    "\n",
    "        :param numpy.array x: input of the activation\n",
    "        :return: if x > 0, 1, else 0\n",
    "        :rtype: numpy.array\n",
    "        \"\"\"\n",
    "        return np.where(x > 0.0, 1.0, 0.0)\n",
    "\n",
    "    @staticmethod\n",
    "    def prime(x: np.array) -> np.array:\n",
    "        \"\"\"\n",
    "        Implements the derivative of the threshold activation function\n",
    "\n",
    "        :param numpy.array: input of the activation\n",
    "        :return: derivative of input\n",
    "        :rtype: numpy.array\n",
    "        \"\"\"\n",
    "        return np.zeros_like(x)"
   ]
  },
  {
   "cell_type": "code",
   "execution_count": 5,
   "metadata": {
    "deletable": false,
    "editable": false,
    "nbgrader": {
     "cell_type": "code",
     "checksum": "01d6dfec7ab43cff4d40dbe68585e27b",
     "grade": false,
     "grade_id": "cell-bf37f3ffb0cd15a3",
     "locked": true,
     "schema_version": 3,
     "solution": false,
     "task": false
    }
   },
   "outputs": [],
   "source": [
    "class Sigmoid(Activation):\n",
    "    \"\"\"\n",
    "    Sigmoid activation node\n",
    "    \"\"\"\n",
    "    @staticmethod\n",
    "    def __call__(x: np.array) -> np.array:\n",
    "        \"\"\"\n",
    "        Implements the sigmoid activation function\n",
    "\n",
    "        :param numpy.array x: input of the activation\n",
    "        :return: sigmoid transform of input\n",
    "        :rtype: numpy.array\n",
    "        \"\"\"\n",
    "        return 1.0 / (1.0 + np.exp(-x))\n",
    "\n",
    "    @staticmethod\n",
    "    def prime(x: np.array) -> np.array:\n",
    "        \"\"\"\n",
    "        Implements the derivative of the sigmoid activation function\n",
    "        (you can make good use of Sigmoid(...)!)\n",
    "\n",
    "        :param numpy.array: input of the activation\n",
    "        :return: derivative of input\n",
    "        :rtype: numpy.array\n",
    "        \"\"\"\n",
    "        sigmoid = Sigmoid(x)\n",
    "        return sigmoid * (1.0 - sigmoid)"
   ]
  },
  {
   "cell_type": "markdown",
   "metadata": {
    "deletable": false,
    "editable": false,
    "nbgrader": {
     "cell_type": "markdown",
     "checksum": "9e83d1618c5d95324f500c21b702d9e8",
     "grade": false,
     "grade_id": "cell-4cda9f4baec709e6",
     "locked": true,
     "schema_version": 3,
     "solution": false,
     "task": false
    }
   },
   "source": [
    "Here is the `Network` class you (hopefully) managed to implement last week.\n",
    "**Notice that the implementation and signature of the `feed_forward` method changed so as not to recompute things in `back_propagation`** (see Question 1.3).\n",
    "\n",
    "A `loss` attribute has also been added to record the evolution of the loss."
   ]
  },
  {
   "cell_type": "code",
   "execution_count": 6,
   "metadata": {
    "deletable": false,
    "nbgrader": {
     "cell_type": "code",
     "checksum": "c1e35945998fff952164344d1fac7737",
     "grade": false,
     "grade_id": "cell-aab6d3b791876823",
     "locked": false,
     "schema_version": 3,
     "solution": true,
     "task": false
    }
   },
   "outputs": [],
   "source": [
    "class Network:\n",
    "    \"\"\"\n",
    "    A simple implementation of a feed-forward artificial neural network.\n",
    "    Work on this class throughout the entire exercise, rerunning this cell after each update.\n",
    "    \"\"\"\n",
    "\n",
    "    def __init__(self, sizes: list, activations: list):\n",
    "        \"\"\"\n",
    "        Construct a network given a list of the number of neurons in each layer and\n",
    "        a list of activations which will be applied to each layer.\n",
    "\n",
    "        :param list sizes: A list of integers representing the number of nodes in each layer,\n",
    "        including the input and output layers.\n",
    "        :param list activations: A list of callable objects representing the activation functions.\n",
    "        Its size should be one less than sizes.\n",
    "        \"\"\"\n",
    "        self.sizes = sizes\n",
    "        self.sigmas = activations\n",
    "        self.loss = []\n",
    "\n",
    "        self.biases = [np.random.randn(1, n) for n in sizes[1:]]\n",
    "        self.weights = [\n",
    "            np.random.randn(m, n) for m, n in zip(sizes[:-1], sizes[1:])\n",
    "        ]\n",
    "        # Optional: better initialization\n",
    "        # self.weights = [\n",
    "        #     np.random.randn(m, n) / np.sqrt(m) for m, n in zip(sizes[:-1], sizes[1:])\n",
    "        # ]\n",
    "\n",
    "    def num_params(self) -> int:\n",
    "        \"\"\"Returns the total number of trainable parameters in this network.\"\"\"\n",
    "        return sum([m * n + n for m, n in zip(self.sizes[:-1], self.sizes[1:])])\n",
    "\n",
    "    def feed_forward(self, x: np.array):\n",
    "        \"\"\"\n",
    "        Evaluates the network for the given input and returns the intermediary results.\n",
    "\n",
    "        :param numpy.array x: A numpy 2D-array where the columns represent input variables\n",
    "        and rows represent independent samples.\n",
    "        :return: output of the network\n",
    "        :rtype: np.array, list, list\n",
    "        \"\"\"\n",
    "        activations = [x]\n",
    "        zs = []\n",
    "\n",
    "        # Forward pass, storing z and a as we go\n",
    "        for W, b, sigma in zip(self.weights, self.biases, self.sigmas):\n",
    "            zs.append(np.matmul(activations[-1], W) + b)\n",
    "            activations.append(sigma(zs[-1]))\n",
    "        return activations[-1], activations, zs\n",
    "\n",
    "    def back_propagation(self, x: np.array, y: np.array, cost, verbose: bool = False):\n",
    "        \"\"\"\n",
    "        Compute gradients of cost function w.r.t network parameters for a single training point.\n",
    "\n",
    "        :param numpy.array x: a single input in a 2D array (1, #features), or possibly\n",
    "            several inputs in a 2D array (#samples, #features)\n",
    "        :param numpy.array y: a single output\n",
    "        :param Cost cost: a cost class\n",
    "        :param bool verbose: whether to print debugging information (you don't have to implement this feature)\n",
    "        :return: list of gradients of weights, list of gradients of biases\n",
    "        :rtype: list, list\n",
    "        \"\"\"\n",
    "        # Exercise 1.2\n",
    "        # YOUR CODE HERE\n",
    "        # raise NotImplementedError()\n",
    "        L = len(self.sigmas)\n",
    "        delta = [ 0 for _ in range(L)]\n",
    "        G = [ 0 for _ in range(L)]\n",
    "        y_hat, act, zs = self.feed_forward(x)\n",
    "\n",
    "        e = (y_hat-y)\n",
    "        delta[L-1] = e * self.sigmas[L-1].prime(zs[L-1])\n",
    "        \n",
    "        for i in range(L-2,-1,-1):\n",
    "            delta[i] = ( delta[i+1] @ self.weights[i+1].T) * self.sigmas[i].prime(zs[i])\n",
    "            \n",
    "        for i in range(L):\n",
    "            d = delta[i]\n",
    "            G[i] = act[i].T @ d\n",
    "            o = np.ones(act[i].shape[0])\n",
    "            delta[i] = o @ d\n",
    "            \n",
    "        return G, delta\n",
    "\n",
    "    def update_step(self, x_train: np.array, y_train: np.array, cost, learning_rate: float,\n",
    "                    verbose: bool = False):\n",
    "        \"\"\"\n",
    "        Compute the average parameter gradients over the whole training set and do a GD step.\n",
    "        N.B.: this does not return anything!\n",
    "\n",
    "        :param numpy.array x_train: A design matrix (2D array (#samples, #features))\n",
    "        :param numpy.array y_train: A vector / array of responses\n",
    "        :param Cost cost: A callable object with signature cost(y_pred, y) for computing the cost of a single\n",
    "        training example.\n",
    "        :param float learning_rate: The learning rate to use in the GD step.\n",
    "        :param bool update_step: Perform an update step: average all the gradients and update the parameters.\n",
    "        \"\"\"\n",
    "        # Exercise 1.3\n",
    "        ## Suggestions\n",
    "        # Compute gradients of weights and biases for all layers and samples\n",
    "        # Update the weights and biases\n",
    "        # YOUR CODE HERE\n",
    "        # raise NotImplementedError()\n",
    "\n",
    "        w_grad, b_grad = self.back_propagation(x_train,y_train,cost,verbose)\n",
    "        i=0\n",
    "        for w,b in zip(w_grad, b_grad):\n",
    "            self.weights[i] =  self.weights[i] - w * learning_rate\n",
    "            self.biases[i] = self.biases[i] - b * learning_rate \n",
    "            i+=1\n",
    "            \n",
    "    def train(self, x_train, y_train, cost, learning_rate: float, epochs: int = 100, verbose: bool = True):\n",
    "        \"\"\"\n",
    "        Trains this network on the training data, i.e. iterate the update step.\n",
    "        N.B.: this does not return anything!\n",
    "\n",
    "        :param np.array x_train: A design matrix\n",
    "        :param np.array y_train: A vector of responses\n",
    "        :param Cost cost: A callable object with signature cost(y_pred, y) for computing the cost of a single\n",
    "        training example.\n",
    "        :param float learning_rate: The learning rate to use in the GD step.\n",
    "        :param int epochs: The number of epochs to train with.\n",
    "        :param bool verbose: Whether to print the loss at each epoch.\n",
    "        \"\"\"\n",
    "        for i in range(epochs):\n",
    "            self.update_step(x_train, y_train, cost, learning_rate)\n",
    "\n",
    "            # Compute the loss\n",
    "            y_pred, _, _ = self.feed_forward(x_train)\n",
    "            loss = cost(y_pred, y_train)\n",
    "            self.loss.append(loss)\n",
    "            if verbose:\n",
    "                print('epoch:', i, '\\n\\tloss: ', loss)"
   ]
  },
  {
   "cell_type": "markdown",
   "metadata": {
    "colab_type": "text",
    "deletable": false,
    "editable": false,
    "id": "CcgyCRvg_Czs",
    "nbgrader": {
     "cell_type": "markdown",
     "checksum": "5ed4ed19557aaa2ba7dc83f0942ff1b9",
     "grade": false,
     "grade_id": "cell-d27916f41d987521",
     "locked": true,
     "schema_version": 3,
     "solution": false,
     "task": false
    }
   },
   "source": [
    "# Exercise 1: Implement the training algorithm\n",
    "\n",
    "Before we can implement the training algorithm, we need to define a cost function. For now, let's create a base class `Cost`, similar to the base class `Activation`, for simplicity, and a `QuadraticCost` class representing the quadratic cost which was given in the introduction."
   ]
  },
  {
   "cell_type": "code",
   "execution_count": 7,
   "metadata": {
    "deletable": false,
    "editable": false,
    "nbgrader": {
     "cell_type": "code",
     "checksum": "a183091380ba98c283b5782a16ffb2ed",
     "grade": false,
     "grade_id": "cell-6304d680c7702e4f",
     "locked": true,
     "schema_version": 3,
     "solution": false,
     "task": false
    }
   },
   "outputs": [],
   "source": [
    "class Cost:\n",
    "    def __new__(self, y_pred: np.array, y: np.array) -> float:\n",
    "        return self.__call__(y_pred, y)"
   ]
  },
  {
   "cell_type": "markdown",
   "metadata": {
    "deletable": false,
    "editable": false,
    "nbgrader": {
     "cell_type": "markdown",
     "checksum": "08525fb098de311a8ad693474f263e76",
     "grade": false,
     "grade_id": "cell-ad9ec66add87f74e",
     "locked": true,
     "schema_version": 3,
     "solution": false,
     "task": false
    }
   },
   "source": [
    "1. Implement the quadratic cost defined above in the function below."
   ]
  },
  {
   "cell_type": "code",
   "execution_count": 8,
   "metadata": {
    "colab": {},
    "colab_type": "code",
    "deletable": false,
    "id": "Dq7HxJY1_Czu",
    "nbgrader": {
     "cell_type": "code",
     "checksum": "722480e75f82f8fec19321532dc7e633",
     "grade": false,
     "grade_id": "cell-06e268e99d5f4984",
     "locked": false,
     "schema_version": 3,
     "solution": true,
     "task": false
    }
   },
   "outputs": [],
   "source": [
    "class QuadraticCost(Cost):\n",
    "    @staticmethod\n",
    "    def __call__(y_pred: np.array, y: np.array) -> float:\n",
    "        \"\"\"\n",
    "        Computes the quadratic cost function.\n",
    "\n",
    "        :param numpy.array y_pred: y_hat for each sample\n",
    "        :param numpy.array y: y for each sample\n",
    "        :return: Squared L2 norm of the difference\n",
    "        :rtype: float\n",
    "        \"\"\"\n",
    "        # YOUR CODE HERE\n",
    "        # raise NotImplementedError()\n",
    "        return np.linalg.norm(np.sum((y_pred - y)**2))\n",
    "    \n",
    "    @staticmethod\n",
    "    def prime(y_pred: np.array, y: np.array) -> np.array:\n",
    "        \"\"\"\n",
    "        Computes the derivative of the quadratic cost function.\n",
    "\n",
    "        :param numpy.array y_pred: y_hat for each sample\n",
    "        :param numpy.array y: y for each sample\n",
    "        :return: derivative of cost function w.r.t. y_pred\n",
    "        :rtype: numpy.array\n",
    "        \"\"\"\n",
    "        # YOUR CODE HERE\n",
    "        # raise NotImplementedError()\n",
    "        return 2*((y_pred-y))"
   ]
  },
  {
   "cell_type": "code",
   "execution_count": 9,
   "metadata": {
    "deletable": false,
    "editable": false,
    "nbgrader": {
     "cell_type": "code",
     "checksum": "8a72b5fedfb548c937532300206900a4",
     "grade": true,
     "grade_id": "cell-98a36c947d6f4f78",
     "locked": true,
     "points": 1,
     "schema_version": 3,
     "solution": false,
     "task": false
    }
   },
   "outputs": [],
   "source": [
    "assert QuadraticCost(np.array([0]), np.array([0])) == 0\n",
    "assert QuadraticCost.prime(np.array([0]), np.array([0])) == 0\n",
    "assert QuadraticCost(np.array([0, 0]), np.array([0, 0])) == 0"
   ]
  },
  {
   "cell_type": "markdown",
   "metadata": {
    "colab_type": "text",
    "deletable": false,
    "editable": false,
    "id": "sVItBWoq_Czw",
    "nbgrader": {
     "cell_type": "markdown",
     "checksum": "875b7dfd6bf48bef5a5c1f6f8f0805bd",
     "grade": false,
     "grade_id": "cell-198d1a661f9903e5",
     "locked": true,
     "schema_version": 3,
     "solution": false,
     "task": false
    }
   },
   "source": [
    "2. **Hard** - Implement the `back_propagation` function in the `Network` class.\n",
    "\n",
    "With this cost defined, let's implement three remaining functions in `Network` that will allow us to train our models. The first is the `back_propagation` method which takes either a single training sample $x, y$ and a `Cost` class like the one above, and computes the gradient of the cost function w.r.t. to all the weights and biases using the backpropagation algorithm, or a dataset $(x^{(i)}, y^{(i)})$ and computes the **sum** of the gradient of the cost w.r.t. to all the weights and biases (which will simplify Exercise 1.3 below). Use the formulas found at the end of lab #06. It sould return the lists of $\\nabla_{W^l}\\ell_p$ and $\\nabla_{b^l}\\ell_p$ for $1 \\leq l \\leq L$.\n",
    "\n",
    "**Remember to execute the `Network` class again before running the tests below.**"
   ]
  },
  {
   "cell_type": "code",
   "execution_count": 10,
   "metadata": {
    "deletable": false,
    "editable": false,
    "nbgrader": {
     "cell_type": "code",
     "checksum": "27b5b9de0221671f9dfbc61d7b5b6d8f",
     "grade": true,
     "grade_id": "cell-823828240e0e5860",
     "locked": true,
     "points": 1,
     "schema_version": 3,
     "solution": false,
     "task": false
    }
   },
   "outputs": [],
   "source": [
    "# Define a single training point\n",
    "x = np.array([1, -1]).reshape(1, 2)\n",
    "y = np.array([0])\n",
    "\n",
    "# Define a network\n",
    "network = Network([2, 5, 1], [Sigmoid, Identity])\n",
    "\n",
    "# Perform back-propagation\n",
    "w_grad, b_grad = network.back_propagation(x, y, QuadraticCost)\n",
    "\n",
    "assert len(w_grad) == 2  # 2 layers (1 hidden, 1 output)\n",
    "assert len(b_grad) == 2  # 2 layers (1 hidden, 1 output)"
   ]
  },
  {
   "cell_type": "code",
   "execution_count": null,
   "metadata": {
    "deletable": false,
    "editable": false,
    "nbgrader": {
     "cell_type": "code",
     "checksum": "1dbf4b67b4ba02687ba5601c1a837a77",
     "grade": true,
     "grade_id": "cell-7d0800d59f3e73f5",
     "locked": true,
     "points": 1,
     "schema_version": 3,
     "solution": false,
     "task": false
    }
   },
   "outputs": [],
   "source": []
  },
  {
   "cell_type": "markdown",
   "metadata": {
    "deletable": false,
    "editable": false,
    "nbgrader": {
     "cell_type": "markdown",
     "checksum": "16b0a90fae39366b7b7dfdf9f98df585",
     "grade": false,
     "grade_id": "cell-27b35f458071a5ca",
     "locked": true,
     "schema_version": 3,
     "solution": false,
     "task": false
    }
   },
   "source": [
    "3. Implement the `update_step` function in the `Network` class.\n",
    "\n",
    "Next, implement a single epoch of training by **summing** the gradients over the whole dataset and using the GD update rule to update the weights and biases.\n",
    "\n",
    "The `update_step` method is used by the `train` method successively in a loop as you can see in the `Network` class implementation above.  Assuming you have implemented the `backprop` and `update_step` functions correctly, you should now be able to train the network on real training data.\n",
    "\n",
    "**Remember to execute the `Network` class again before running the tests below.**"
   ]
  },
  {
   "cell_type": "code",
   "execution_count": 11,
   "metadata": {
    "deletable": false,
    "editable": false,
    "nbgrader": {
     "cell_type": "code",
     "checksum": "15b89834a7b2948a810f67fbbf23255a",
     "grade": true,
     "grade_id": "cell-f62a429b993c10b6",
     "locked": true,
     "points": 1,
     "schema_version": 3,
     "solution": false,
     "task": false
    }
   },
   "outputs": [],
   "source": [
    "# Generate training points\n",
    "np.random.seed(0)\n",
    "x = np.random.uniform(-1, 1, (100, 1))\n",
    "y = np.cos(np.pi * x)**2\n",
    "\n",
    "# Define a network\n",
    "network = Network([1, 100, 1], [Sigmoid, Identity])\n",
    "\n",
    "# Store weights and biases before the update to see if something changed\n",
    "weights_before = network.weights[0].copy()\n",
    "biases_before = network.biases[0].copy()\n",
    "\n",
    "\n",
    "# Perform an update step\n",
    "network.update_step(x, y, QuadraticCost, 0.1)\n",
    "\n",
    "# Assert that something did change\n",
    "assert np.any(np.not_equal(network.weights[0], weights_before))\n",
    "assert np.any(np.not_equal(network.biases[0], biases_before))\n"
   ]
  },
  {
   "cell_type": "markdown",
   "metadata": {
    "colab_type": "text",
    "deletable": false,
    "editable": false,
    "id": "HOoISY4e_Czy",
    "nbgrader": {
     "cell_type": "markdown",
     "checksum": "082a91b688b1faaca885177cebd4b8f8",
     "grade": false,
     "grade_id": "cell-85bd25f54fbff113",
     "locked": true,
     "schema_version": 3,
     "solution": false,
     "task": false
    }
   },
   "source": [
    "# Exercise 2: Test training on simple regression problem.\n",
    "\n",
    "Run the following code to test the network.  If all is correct, you should see the total loss dropping and the network will learn the sine function.  \n",
    "\n",
    "1. Play with different hyperparameters of the network and training such as the number of layers, number of nodes per layer, learning rate, and number of training samples. Can you improve the training performance?"
   ]
  },
  {
   "cell_type": "code",
   "execution_count": 12,
   "metadata": {
    "colab": {},
    "colab_type": "code",
    "id": "trHvjm86_Czy"
   },
   "outputs": [],
   "source": [
    "# Hyperparameters to tune\n",
    "n_iterations = 10000\n",
    "lr = 0.03\n",
    "verbose = False\n",
    "sizes = [1,10, 10, 1]\n",
    "activations = [Sigmoid, Sigmoid, Sigmoid]"
   ]
  },
  {
   "cell_type": "code",
   "execution_count": 13,
   "metadata": {
    "deletable": false,
    "editable": false,
    "nbgrader": {
     "cell_type": "code",
     "checksum": "79d88daa5674b24b67c379c9ffa2e429",
     "grade": false,
     "grade_id": "cell-dbc8b871cbe83a32",
     "locked": true,
     "schema_version": 3,
     "solution": false,
     "task": false
    }
   },
   "outputs": [],
   "source": [
    "# Training the network\n",
    "np.random.seed(1)\n",
    "network = Network(sizes, activations)\n",
    "\n",
    "network.train(x_train=x, y_train=y, cost=QuadraticCost,\n",
    "              learning_rate=lr, epochs=n_iterations, verbose=verbose)"
   ]
  },
  {
   "cell_type": "code",
   "execution_count": 14,
   "metadata": {
    "deletable": false,
    "editable": false,
    "nbgrader": {
     "cell_type": "code",
     "checksum": "29664a0e38bb73b6a084bf72d31e729a",
     "grade": false,
     "grade_id": "cell-b98d7af73e35e239",
     "locked": true,
     "schema_version": 3,
     "solution": false,
     "task": false
    }
   },
   "outputs": [],
   "source": [
    "# Some test samples\n",
    "x_pred = np.arange(-1, 1, 0.01).reshape(200, 1)\n",
    "y_pred, _, _ = network.feed_forward(x_pred)"
   ]
  },
  {
   "cell_type": "code",
   "execution_count": 15,
   "metadata": {
    "deletable": false,
    "editable": false,
    "nbgrader": {
     "cell_type": "code",
     "checksum": "3e240bda4f2797f64063c9a2611cbc3a",
     "grade": false,
     "grade_id": "cell-c235079a0acb1424",
     "locked": true,
     "schema_version": 3,
     "solution": false,
     "task": false
    }
   },
   "outputs": [
    {
     "data": {
      "image/png": "[encoded data removed]",
      "text/plain": [
       "<Figure size 640x480 with 1 Axes>"
      ]
     },
     "metadata": {},
     "output_type": "display_data"
    },
    {
     "data": {
      "image/png": "[encoded data removed]",
      "text/plain": [
       "<Figure size 640x480 with 1 Axes>"
      ]
     },
     "metadata": {},
     "output_type": "display_data"
    },
    {
     "data": {
      "image/png": "[encoded data removed]",
      "text/plain": [
       "<Figure size 640x480 with 1 Axes>"
      ]
     },
     "metadata": {},
     "output_type": "display_data"
    }
   ],
   "source": [
    "# Plot train samples, truth, test samples and predictions\n",
    "plt.plot(x, y, 'k.', label=\"Truth\")\n",
    "plt.plot(x_pred, y_pred, 'k-', label=\"Prediction\")\n",
    "plt.legend()\n",
    "plt.show()\n",
    "plt.plot(range(n_iterations), network.loss, label=\"Training loss\")\n",
    "plt.legend()\n",
    "plt.show()\n",
    "plt.plot(range(int(n_iterations / 2), n_iterations),\n",
    "         network.loss[int(n_iterations / 2):],\n",
    "         label=f\"Training loss, last {int(n_iterations / 2)} observations\")\n",
    "plt.legend()\n",
    "plt.show()"
   ]
  },
  {
   "cell_type": "markdown",
   "metadata": {
    "deletable": false,
    "nbgrader": {
     "cell_type": "markdown",
     "checksum": "bcfb5129570286872c41383c5c2584b3",
     "grade": true,
     "grade_id": "cell-d80d44f5e291891e",
     "locked": false,
     "points": 0,
     "schema_version": 3,
     "solution": true,
     "task": false
    }
   },
   "source": [
    "\n",
    "We can improve performance by modifying the learning rate, the number of iterations, the number of layers/nodes per later and also implementing different types of activation and cost function. \n",
    "I  increased the value of the learning rate and the number of iterations by a factor of 10; after around 8000 iterations, the performance does not get that much better."
   ]
  },
  {
   "cell_type": "markdown",
   "metadata": {
    "colab_type": "text",
    "deletable": false,
    "editable": false,
    "id": "oS8FykEW_Cz1",
    "nbgrader": {
     "cell_type": "markdown",
     "checksum": "6c8028d76433bcb65e78908e2453dc1e",
     "grade": false,
     "grade_id": "cell-2755c7b7a760993b",
     "locked": true,
     "schema_version": 3,
     "solution": false,
     "task": false
    }
   },
   "source": [
    "# Step 3: Fashion items classification"
   ]
  },
  {
   "cell_type": "markdown",
   "metadata": {
    "colab_type": "text",
    "deletable": false,
    "editable": false,
    "id": "T3z-qi2D_Cz2",
    "nbgrader": {
     "cell_type": "markdown",
     "checksum": "b5210a8369be01ce141d105cbf6723de",
     "grade": false,
     "grade_id": "cell-893e161ea291f57e",
     "locked": true,
     "schema_version": 3,
     "solution": false,
     "task": false
    }
   },
   "source": [
    "Let's test our model on a more sophisticated dataset, namely [Zalando research's fashion MNIST dataset](https://github.com/zalandoresearch/fashion-mnist). This dataset includes 70,000 images of fashion items 28x28 pixels (=784), split into a training set of 60,000 images and a test set of 10,000 images. Each image is labeled with a digit from 0 to 9.  "
   ]
  },
  {
   "cell_type": "markdown",
   "metadata": {
    "deletable": false,
    "editable": false,
    "nbgrader": {
     "cell_type": "markdown",
     "checksum": "e004948b7508dc411e043e19eb11088d",
     "grade": false,
     "grade_id": "cell-44db52d7a02aa251",
     "locked": true,
     "schema_version": 3,
     "solution": false,
     "task": false
    }
   },
   "source": [
    "The original [MNIST dataset](http://yann.lecun.com/exdb/mnist/) consists in handwritten digits, e.g. to automatically read the addresses on mails. The performance of neural networks on this task was so much better than previous approaches that it (re-)sparked a lot of interest in them (and brought fame to Yann LeCun). It is now considered an \"easy\" task."
   ]
  },
  {
   "cell_type": "markdown",
   "metadata": {
    "colab_type": "text",
    "deletable": false,
    "editable": false,
    "id": "DMPGw1_2_Cz3",
    "nbgrader": {
     "cell_type": "markdown",
     "checksum": "94977582c89e6bb010ff636bae0aca85",
     "grade": false,
     "grade_id": "cell-3889c95ba020ab46",
     "locked": true,
     "schema_version": 3,
     "solution": false,
     "task": false
    }
   },
   "source": [
    "## Exercise 3: Get to know the dataset\n",
    "\n",
    "1. Just run the following cell to download the Fashion MNIST database."
   ]
  },
  {
   "cell_type": "code",
   "execution_count": 16,
   "metadata": {
    "deletable": false,
    "editable": false,
    "nbgrader": {
     "cell_type": "code",
     "checksum": "24953a7b86b2525cef8f833451989a38",
     "grade": false,
     "grade_id": "cell-d5b3ae3502947997",
     "locked": true,
     "schema_version": 3,
     "solution": false,
     "task": false
    }
   },
   "outputs": [],
   "source": [
    "(x_train, y_train), (x_test, y_test) = tf.keras.datasets.fashion_mnist.load_data()"
   ]
  },
  {
   "cell_type": "markdown",
   "metadata": {
    "colab_type": "text",
    "deletable": false,
    "editable": false,
    "id": "DOGb47wm_Cz7",
    "nbgrader": {
     "cell_type": "markdown",
     "checksum": "255b20c715187aaf1db3c346365af38a",
     "grade": false,
     "grade_id": "cell-655bc4b54e585eef",
     "locked": true,
     "schema_version": 3,
     "solution": false,
     "task": false
    }
   },
   "source": [
    "2. Next check that the shapes of the training and test data, and their content, are what you expect. Please answer by *e.g.* printing the shapes of the training and test data as well as the ranges of values that are contained in them and comment in the next cell. "
   ]
  },
  {
   "cell_type": "code",
   "execution_count": 17,
   "metadata": {
    "colab": {},
    "colab_type": "code",
    "deletable": false,
    "id": "Hx6Yqm80_Cz7",
    "nbgrader": {
     "cell_type": "code",
     "checksum": "7694afdb68a10ca13e7ec0e3289cb81e",
     "grade": false,
     "grade_id": "cell-67f8be678bb72756",
     "locked": false,
     "schema_version": 3,
     "solution": true,
     "task": false
    }
   },
   "outputs": [
    {
     "name": "stdout",
     "output_type": "stream",
     "text": [
      "(60000,)\n",
      "(60000, 28, 28)\n",
      "(10000,)\n",
      "(10000, 28, 28)\n",
      "0 255\n",
      "0 9\n"
     ]
    }
   ],
   "source": [
    "# YOUR CODE HERE\n",
    "print(y_train.shape)\n",
    "print(x_train.shape)\n",
    "print(y_test.shape)\n",
    "print(x_test.shape)\n",
    "print(np.min(x_test), np.max(x_test))\n",
    "print(np.min(y_test), np.max(y_test))"
   ]
  },
  {
   "cell_type": "markdown",
   "metadata": {
    "deletable": false,
    "nbgrader": {
     "cell_type": "markdown",
     "checksum": "ca64fb6488d7bd9d5a8b7859bc6bfe3e",
     "grade": true,
     "grade_id": "cell-6842148492190a1a",
     "locked": false,
     "points": 0,
     "schema_version": 3,
     "solution": true,
     "task": false
    }
   },
   "source": [
    "YOUR ANSWER HERE\n",
    "\n",
    "The dataset has 60000 training vectors, 1000 testing vectors that are all of size 28*28. Each element of the array is an integer ranging from 0 to 255."
   ]
  },
  {
   "cell_type": "markdown",
   "metadata": {
    "colab_type": "text",
    "deletable": false,
    "editable": false,
    "id": "lmhztu8w_Cz-",
    "nbgrader": {
     "cell_type": "markdown",
     "checksum": "e010352e9c8dfae45f0afee3be5633f9",
     "grade": false,
     "grade_id": "cell-fb976918d0bc982f",
     "locked": true,
     "schema_version": 3,
     "solution": false,
     "task": false
    }
   },
   "source": [
    "3. Get a feel for the dataset by displaying some images in _grayscale_. Please print one image per class together with their class label.\n",
    "\n",
    "*Python hint*: [plt.imshow](https://matplotlib.org/3.5.1/api/_as_gen/matplotlib.pyplot.imshow.html)."
   ]
  },
  {
   "cell_type": "code",
   "execution_count": 18,
   "metadata": {
    "colab": {},
    "colab_type": "code",
    "deletable": false,
    "id": "ecSEcD82_Cz-",
    "nbgrader": {
     "cell_type": "code",
     "checksum": "621c20a3453d0fa9662edcdbe2e2b495",
     "grade": true,
     "grade_id": "cell-d83572104abecf8d",
     "locked": false,
     "points": 0,
     "schema_version": 3,
     "solution": true,
     "task": false
    }
   },
   "outputs": [
    {
     "data": {
      "image/png": "[encoded data removed]",
      "text/plain": [
       "<Figure size 640x480 with 1 Axes>"
      ]
     },
     "metadata": {},
     "output_type": "display_data"
    },
    {
     "data": {
      "image/png": "[encoded data removed]",
      "text/plain": [
       "<Figure size 640x480 with 1 Axes>"
      ]
     },
     "metadata": {},
     "output_type": "display_data"
    },
    {
     "data": {
      "image/png": "[encoded data removed]",
      "text/plain": [
       "<Figure size 640x480 with 1 Axes>"
      ]
     },
     "metadata": {},
     "output_type": "display_data"
    },
    {
     "data": {
      "image/png": "[encoded data removed]",
      "text/plain": [
       "<Figure size 640x480 with 1 Axes>"
      ]
     },
     "metadata": {},
     "output_type": "display_data"
    },
    {
     "data": {
      "image/png": "[encoded data removed]",
      "text/plain": [
       "<Figure size 640x480 with 1 Axes>"
      ]
     },
     "metadata": {},
     "output_type": "display_data"
    },
    {
     "data": {
      "image/png": "[encoded data removed]",
      "text/plain": [
       "<Figure size 640x480 with 1 Axes>"
      ]
     },
     "metadata": {},
     "output_type": "display_data"
    },
    {
     "data": {
      "image/png": "[encoded data removed]",
      "text/plain": [
       "<Figure size 640x480 with 1 Axes>"
      ]
     },
     "metadata": {},
     "output_type": "display_data"
    },
    {
     "data": {
      "image/png": "[encoded data removed]",
      "text/plain": [
       "<Figure size 640x480 with 1 Axes>"
      ]
     },
     "metadata": {},
     "output_type": "display_data"
    },
    {
     "data": {
      "image/png": "[encoded data removed]",
      "text/plain": [
       "<Figure size 640x480 with 1 Axes>"
      ]
     },
     "metadata": {},
     "output_type": "display_data"
    },
    {
     "data": {
      "image/png": "[encoded data removed]",
      "text/plain": [
       "<Figure size 640x480 with 1 Axes>"
      ]
     },
     "metadata": {},
     "output_type": "display_data"
    }
   ],
   "source": [
    "# YOUR CODE HERE\n",
    "# raise NotImplementedError()\n",
    "for i in range(10):\n",
    "    plt.imshow(x_train[i])\n",
    "    plt.show()"
   ]
  },
  {
   "cell_type": "markdown",
   "metadata": {
    "colab_type": "text",
    "deletable": false,
    "editable": false,
    "id": "jycvYjC8_C0A",
    "nbgrader": {
     "cell_type": "markdown",
     "checksum": "e2ed6dfe13ba562128051c945a4ce443",
     "grade": false,
     "grade_id": "cell-102eb0e8b1b6d593",
     "locked": true,
     "schema_version": 3,
     "solution": false,
     "task": false
    }
   },
   "source": [
    "## Exercise 4: Create a one-hot encoding of the labels"
   ]
  },
  {
   "cell_type": "markdown",
   "metadata": {
    "colab_type": "text",
    "deletable": false,
    "editable": false,
    "id": "07iAfT3F_C0B",
    "nbgrader": {
     "cell_type": "markdown",
     "checksum": "6958f0a74b625623f853017f5a4dc1ab",
     "grade": false,
     "grade_id": "cell-22f82d6261e58de6",
     "locked": true,
     "schema_version": 3,
     "solution": false,
     "task": false
    }
   },
   "source": [
    "`y_train` and `y_test` currently contain the digits 0-9, which is not suited for training as we want to perform a 10-class classification training on our network. To fix this, we need to perform a so-called one-hot encoding on the labels which convert each digit into a vector of length 10 full of zeros, except the element corresponding to the digit which should be 1.  For example, if our label is 3, then the corresponding one-hot encoding is [0, 0, 0, 1, 0, 0, 0, 0, 0, 0].\n",
    "\n",
    "1. Convert the `y_train` and `y_test` vectors into one-hot encodings."
   ]
  },
  {
   "cell_type": "code",
   "execution_count": 19,
   "metadata": {
    "colab": {},
    "colab_type": "code",
    "deletable": false,
    "id": "Cbji5mMI_C0D",
    "nbgrader": {
     "cell_type": "code",
     "checksum": "d9978b9717628783e3a7f07f9f21970b",
     "grade": false,
     "grade_id": "cell-f3542df3b7808c77",
     "locked": false,
     "schema_version": 3,
     "solution": true,
     "task": false
    }
   },
   "outputs": [],
   "source": [
    "# y_train =  ...\n",
    "# y_test =  ...\n",
    "# YOUR CODE HERE\n",
    "# raise NotImplementedError()\n",
    "y_test_copy = y_test.copy()\n",
    "y_train = np.eye(10)[y_train]\n",
    "y_test = np.eye(10)[y_test]"
   ]
  },
  {
   "cell_type": "code",
   "execution_count": null,
   "metadata": {
    "deletable": false,
    "editable": false,
    "nbgrader": {
     "cell_type": "code",
     "checksum": "43c7f99a4a986a8c3b18980e0f2aa0fb",
     "grade": true,
     "grade_id": "cell-f71e9a13bf89af5e",
     "locked": true,
     "points": 1,
     "schema_version": 3,
     "solution": false,
     "task": false
    }
   },
   "outputs": [],
   "source": []
  },
  {
   "cell_type": "markdown",
   "metadata": {
    "colab_type": "text",
    "deletable": false,
    "editable": false,
    "id": "2m0XRWBV_C0G",
    "nbgrader": {
     "cell_type": "markdown",
     "checksum": "4739844a785ae3e14bbcd06fb1748514",
     "grade": false,
     "grade_id": "cell-6643c0869bd1da0a",
     "locked": true,
     "schema_version": 3,
     "solution": false,
     "task": false
    }
   },
   "source": [
    "## Exercise 5: Train your network to recognize fashion items\n",
    "\n",
    "1. Implement the cross-entropy loss function below."
   ]
  },
  {
   "cell_type": "code",
   "execution_count": 20,
   "metadata": {
    "colab": {},
    "colab_type": "code",
    "deletable": false,
    "id": "m0g-NQxS_C0I",
    "nbgrader": {
     "cell_type": "code",
     "checksum": "b46879af406d5f4cbd42fe296feeb7c8",
     "grade": false,
     "grade_id": "cell-44314e995a469cda",
     "locked": false,
     "schema_version": 3,
     "solution": true,
     "task": false
    }
   },
   "outputs": [],
   "source": [
    "class CrossEntropy(Cost):\n",
    "    \"\"\"Cross Entropy loss function\"\"\"\n",
    "    @staticmethod\n",
    "    def __call__(y_pred: np.array, y: np.array) -> float:\n",
    "        \"\"\"\n",
    "        Value of the cross entropy loss given predictions and true labels\n",
    "\n",
    "        :param numpy.array y_pred: 1D array associated with the predicted probability of y=1\n",
    "        :param numpy.array y: 1D array of true (0/1) classes\n",
    "        :return: value of the loss\n",
    "        :rtype: float or numpy.array\n",
    "        \"\"\"\n",
    "        # YOUR CODE HERE\n",
    "        # raise NotImplementedError()\n",
    "        return np.sum(-y * np.log(y_pred) - (1 - y) * np.log(1 - y_pred))\n",
    "\n",
    "\n",
    "    @staticmethod\n",
    "    def prime(y_pred: np.array, y: np.array) -> np.array:\n",
    "        \"\"\"\n",
    "        Derivative of the cross entropy loss function\n",
    "\n",
    "        :param numpy.array y_pred: 1D array associated with the predicted probability of y=1\n",
    "        :param numpy.array y: 1D array of true (0/1) classes\n",
    "        :return: gradient of the loss w.r.t. y_pred\n",
    "        :rtype: numpy.array\n",
    "        \"\"\"\n",
    "        # YOUR CODE HERE\n",
    "        # raise NotImplementedError()\n",
    "        return -(y/y_pred) + (1 - y) / (1 - y_pred)"
   ]
  },
  {
   "cell_type": "code",
   "execution_count": 21,
   "metadata": {
    "deletable": false,
    "editable": false,
    "nbgrader": {
     "cell_type": "code",
     "checksum": "f43abc03202f5bb50e7857e0306f6842",
     "grade": true,
     "grade_id": "cell-fe1ca1fd8adacb35",
     "locked": true,
     "points": 1,
     "schema_version": 3,
     "solution": false,
     "task": false
    }
   },
   "outputs": [],
   "source": [
    "assert CrossEntropy(np.array([0.5]), np.array([0])) == - np.log(0.5)\n",
    "assert CrossEntropy.prime(np.array([0.5]), np.array([0])) == 2.0\n",
    "assert int(CrossEntropy(np.array([0.5, 0.5]),\n",
    "                    np.array([0, 1]))) == 1\n",
    "assert CrossEntropy.prime(np.array([0.5]), np.array([0])) == 2.0"
   ]
  },
  {
   "cell_type": "markdown",
   "metadata": {
    "colab_type": "text",
    "deletable": false,
    "editable": false,
    "id": "YIgJRtRj_C0M",
    "nbgrader": {
     "cell_type": "markdown",
     "checksum": "c39d42f23181f028ab0c5a7c9a39f630",
     "grade": false,
     "grade_id": "cell-bbf461afaed81e3f",
     "locked": true,
     "schema_version": 3,
     "solution": false,
     "task": false
    }
   },
   "source": [
    "2. Instantiate a network with 1 hidden layer of 32 nodes, with sigmoid activations and a cross-entropy loss. Note that this network cannot take 2-dimensional data points as input. Therefore, it should be instantiated to expect 'flattened' images as input, i.e., images that have been converted to vectors."
   ]
  },
  {
   "cell_type": "code",
   "execution_count": 22,
   "metadata": {
    "colab": {},
    "colab_type": "code",
    "deletable": false,
    "id": "-piflCMb_C0N",
    "nbgrader": {
     "cell_type": "code",
     "checksum": "e26a60c26059050853c69a8c1cef0546",
     "grade": false,
     "grade_id": "cell-56ed8b574c919936",
     "locked": false,
     "schema_version": 3,
     "solution": true,
     "task": false
    }
   },
   "outputs": [],
   "source": [
    "# network = ...\n",
    "# YOUR CODE HERE\n",
    "# raise NotImplementedError()\n",
    "network = Network([784, 32, 10], [Sigmoid, Sigmoid])\n"
   ]
  },
  {
   "cell_type": "code",
   "execution_count": null,
   "metadata": {
    "deletable": false,
    "editable": false,
    "nbgrader": {
     "cell_type": "code",
     "checksum": "a2269fa7cf5e0fd3384bc9632f42a611",
     "grade": true,
     "grade_id": "cell-e43aeee993a1f613",
     "locked": true,
     "points": 1,
     "schema_version": 3,
     "solution": false,
     "task": false
    }
   },
   "outputs": [],
   "source": []
  },
  {
   "cell_type": "markdown",
   "metadata": {
    "deletable": false,
    "editable": false,
    "nbgrader": {
     "cell_type": "markdown",
     "checksum": "585aeb93da479c6e929e912215cea0d2",
     "grade": false,
     "grade_id": "cell-906f3384373591aa",
     "locked": true,
     "schema_version": 3,
     "solution": false,
     "task": false
    }
   },
   "source": [
    "3. Train the network using the first 10000 images in the training set, any learning rate / number of epochs (see Exercise 4.4.). "
   ]
  },
  {
   "cell_type": "code",
   "execution_count": 23,
   "metadata": {
    "colab": {},
    "colab_type": "code",
    "deletable": false,
    "id": "b9uTukZR_C0P",
    "nbgrader": {
     "cell_type": "code",
     "checksum": "ff6ac8bbea70adeb6012b3a5bcbb2358",
     "grade": false,
     "grade_id": "cell-b468730447b2a263",
     "locked": false,
     "schema_version": 3,
     "solution": true,
     "task": false
    }
   },
   "outputs": [
    {
     "name": "stderr",
     "output_type": "stream",
     "text": [
      "/tmp/ipykernel_296376/2029569746.py:14: RuntimeWarning: overflow encountered in exp\n",
      "  return 1.0 / (1.0 + np.exp(-x))\n"
     ]
    },
    {
     "name": "stdout",
     "output_type": "stream",
     "text": [
      "epoch: 0 \n",
      "\tloss:  9999.999805677398\n",
      "epoch: 1 \n",
      "\tloss:  9999.999805635869\n",
      "epoch: 2 \n",
      "\tloss:  9999.999805594325\n",
      "epoch: 3 \n",
      "\tloss:  9999.99980555276\n",
      "epoch: 4 \n",
      "\tloss:  9999.99980551118\n",
      "epoch: 5 \n",
      "\tloss:  9999.999805469577\n",
      "epoch: 6 \n",
      "\tloss:  9999.99980542796\n",
      "epoch: 7 \n",
      "\tloss:  9999.999805386324\n",
      "epoch: 8 \n",
      "\tloss:  9999.99980534467\n",
      "epoch: 9 \n",
      "\tloss:  9999.999805303001\n",
      "epoch: 10 \n",
      "\tloss:  9999.999805261312\n",
      "epoch: 11 \n",
      "\tloss:  9999.999805219608\n",
      "epoch: 12 \n",
      "\tloss:  9999.99980517788\n",
      "epoch: 13 \n",
      "\tloss:  9999.99980513614\n",
      "epoch: 14 \n",
      "\tloss:  9999.99980509438\n",
      "epoch: 15 \n",
      "\tloss:  9999.9998050526\n",
      "epoch: 16 \n",
      "\tloss:  9999.999805010802\n",
      "epoch: 17 \n",
      "\tloss:  9999.999804968988\n",
      "epoch: 18 \n",
      "\tloss:  9999.999804927154\n",
      "epoch: 19 \n",
      "\tloss:  9999.999804885309\n",
      "epoch: 20 \n",
      "\tloss:  9999.999804843439\n",
      "epoch: 21 \n",
      "\tloss:  9999.999804801553\n",
      "epoch: 22 \n",
      "\tloss:  9999.99980475965\n",
      "epoch: 23 \n",
      "\tloss:  9999.999804717727\n",
      "epoch: 24 \n",
      "\tloss:  9999.999804675786\n",
      "epoch: 25 \n",
      "\tloss:  9999.99980463383\n",
      "epoch: 26 \n",
      "\tloss:  9999.999804591855\n",
      "epoch: 27 \n",
      "\tloss:  9999.99980454986\n",
      "epoch: 28 \n",
      "\tloss:  9999.999804507845\n",
      "epoch: 29 \n",
      "\tloss:  9999.999804465817\n",
      "epoch: 30 \n",
      "\tloss:  9999.999804423767\n",
      "epoch: 31 \n",
      "\tloss:  9999.9998043817\n",
      "epoch: 32 \n",
      "\tloss:  9999.999804339615\n",
      "epoch: 33 \n",
      "\tloss:  9999.999804297513\n",
      "epoch: 34 \n",
      "\tloss:  9999.99980425539\n",
      "epoch: 35 \n",
      "\tloss:  9999.999804213254\n",
      "epoch: 36 \n",
      "\tloss:  9999.999804171097\n",
      "epoch: 37 \n",
      "\tloss:  9999.99980412892\n",
      "epoch: 38 \n",
      "\tloss:  9999.999804086727\n",
      "epoch: 39 \n",
      "\tloss:  9999.999804044517\n",
      "epoch: 40 \n",
      "\tloss:  9999.999804002284\n",
      "epoch: 41 \n",
      "\tloss:  9999.999803960038\n",
      "epoch: 42 \n",
      "\tloss:  9999.999803917772\n",
      "epoch: 43 \n",
      "\tloss:  9999.999803875487\n",
      "epoch: 44 \n",
      "\tloss:  9999.999803833181\n",
      "epoch: 45 \n",
      "\tloss:  9999.99980379086\n",
      "epoch: 46 \n",
      "\tloss:  9999.999803748522\n",
      "epoch: 47 \n",
      "\tloss:  9999.999803706163\n",
      "epoch: 48 \n",
      "\tloss:  9999.999803663788\n",
      "epoch: 49 \n",
      "\tloss:  9999.999803621395\n",
      "epoch: 50 \n",
      "\tloss:  9999.999803578983\n",
      "epoch: 51 \n",
      "\tloss:  9999.99980353655\n",
      "epoch: 52 \n",
      "\tloss:  9999.9998034941\n",
      "epoch: 53 \n",
      "\tloss:  9999.999803451632\n",
      "epoch: 54 \n",
      "\tloss:  9999.999803409146\n",
      "epoch: 55 \n",
      "\tloss:  9999.999803366642\n",
      "epoch: 56 \n",
      "\tloss:  9999.99980332412\n",
      "epoch: 57 \n",
      "\tloss:  9999.99980328158\n",
      "epoch: 58 \n",
      "\tloss:  9999.99980323902\n",
      "epoch: 59 \n",
      "\tloss:  9999.999803196442\n",
      "epoch: 60 \n",
      "\tloss:  9999.999803153845\n",
      "epoch: 61 \n",
      "\tloss:  9999.999803111228\n",
      "epoch: 62 \n",
      "\tloss:  9999.999803068595\n",
      "epoch: 63 \n",
      "\tloss:  9999.999803025943\n",
      "epoch: 64 \n",
      "\tloss:  9999.999802983273\n",
      "epoch: 65 \n",
      "\tloss:  9999.999802940585\n",
      "epoch: 66 \n",
      "\tloss:  9999.999802897879\n",
      "epoch: 67 \n",
      "\tloss:  9999.999802855153\n",
      "epoch: 68 \n",
      "\tloss:  9999.999802812405\n",
      "epoch: 69 \n",
      "\tloss:  9999.999802769646\n",
      "epoch: 70 \n",
      "\tloss:  9999.999802726865\n",
      "epoch: 71 \n",
      "\tloss:  9999.999802684062\n",
      "epoch: 72 \n",
      "\tloss:  9999.999802641241\n",
      "epoch: 73 \n",
      "\tloss:  9999.999802598404\n",
      "epoch: 74 \n",
      "\tloss:  9999.999802555549\n",
      "epoch: 75 \n",
      "\tloss:  9999.999802512675\n",
      "epoch: 76 \n",
      "\tloss:  9999.99980246978\n",
      "epoch: 77 \n",
      "\tloss:  9999.99980242687\n",
      "epoch: 78 \n",
      "\tloss:  9999.99980238394\n",
      "epoch: 79 \n",
      "\tloss:  9999.999802340992\n",
      "epoch: 80 \n",
      "\tloss:  9999.999802298023\n",
      "epoch: 81 \n",
      "\tloss:  9999.999802255035\n",
      "epoch: 82 \n",
      "\tloss:  9999.999802212029\n",
      "epoch: 83 \n",
      "\tloss:  9999.999802169004\n",
      "epoch: 84 \n",
      "\tloss:  9999.999802125962\n",
      "epoch: 85 \n",
      "\tloss:  9999.999802082903\n",
      "epoch: 86 \n",
      "\tloss:  9999.999802039822\n",
      "epoch: 87 \n",
      "\tloss:  9999.999801996722\n",
      "epoch: 88 \n",
      "\tloss:  9999.999801953605\n",
      "epoch: 89 \n",
      "\tloss:  9999.999801910468\n",
      "epoch: 90 \n",
      "\tloss:  9999.999801867312\n",
      "epoch: 91 \n",
      "\tloss:  9999.999801824139\n",
      "epoch: 92 \n",
      "\tloss:  9999.999801780943\n",
      "epoch: 93 \n",
      "\tloss:  9999.999801737733\n",
      "epoch: 94 \n",
      "\tloss:  9999.999801694503\n",
      "epoch: 95 \n",
      "\tloss:  9999.999801651255\n",
      "epoch: 96 \n",
      "\tloss:  9999.999801607984\n",
      "epoch: 97 \n",
      "\tloss:  9999.999801564694\n",
      "epoch: 98 \n",
      "\tloss:  9999.99980152139\n",
      "epoch: 99 \n",
      "\tloss:  9999.999801478065\n",
      "epoch: 100 \n",
      "\tloss:  9999.999801434718\n",
      "epoch: 101 \n",
      "\tloss:  9999.999801391356\n",
      "epoch: 102 \n",
      "\tloss:  9999.999801347974\n",
      "epoch: 103 \n",
      "\tloss:  9999.999801304573\n",
      "epoch: 104 \n",
      "\tloss:  9999.999801261154\n",
      "epoch: 105 \n",
      "\tloss:  9999.999801217717\n",
      "epoch: 106 \n",
      "\tloss:  9999.999801174255\n",
      "epoch: 107 \n",
      "\tloss:  9999.999801130782\n",
      "epoch: 108 \n",
      "\tloss:  9999.999801087284\n",
      "epoch: 109 \n",
      "\tloss:  9999.999801043768\n",
      "epoch: 110 \n",
      "\tloss:  9999.999801000235\n",
      "epoch: 111 \n",
      "\tloss:  9999.99980095668\n",
      "epoch: 112 \n",
      "\tloss:  9999.999800913107\n",
      "epoch: 113 \n",
      "\tloss:  9999.999800869518\n",
      "epoch: 114 \n",
      "\tloss:  9999.999800825908\n",
      "epoch: 115 \n",
      "\tloss:  9999.999800782278\n",
      "epoch: 116 \n",
      "\tloss:  9999.999800738628\n",
      "epoch: 117 \n",
      "\tloss:  9999.99980069496\n",
      "epoch: 118 \n",
      "\tloss:  9999.999800651272\n",
      "epoch: 119 \n",
      "\tloss:  9999.999800607568\n"
     ]
    }
   ],
   "source": [
    "# Train the network for X epochs with a learning rate of Y\n",
    "# Our implementation does not deal with 3D inputs, so you need\n",
    "# to \"flatten\" the 28x28 images in a single vector / observation / sample / row.\n",
    "# YOUR CODE HERE\n",
    "# raise NotImplementedError()\n",
    "network.train(x_train=x_train[:10000, :].reshape([10000, 784]),\n",
    "              y_train=y_train[:10000, :],\n",
    "              cost=QuadraticCost,\n",
    "              learning_rate=0.15,\n",
    "              epochs=120)"
   ]
  },
  {
   "cell_type": "code",
   "execution_count": null,
   "metadata": {
    "deletable": false,
    "editable": false,
    "nbgrader": {
     "cell_type": "code",
     "checksum": "889f2531d0c0864d603b417c651b581f",
     "grade": true,
     "grade_id": "cell-343d1f66425feec6",
     "locked": true,
     "points": 1,
     "schema_version": 3,
     "solution": false,
     "task": false
    }
   },
   "outputs": [],
   "source": []
  },
  {
   "cell_type": "code",
   "execution_count": null,
   "metadata": {
    "deletable": false,
    "editable": false,
    "nbgrader": {
     "cell_type": "code",
     "checksum": "3f0d9a4aa7c57f0d1922d7e1a8799ef0",
     "grade": true,
     "grade_id": "cell-c979953ac5fa386c",
     "locked": true,
     "points": 0,
     "schema_version": 3,
     "solution": false,
     "task": false
    }
   },
   "outputs": [],
   "source": []
  },
  {
   "cell_type": "code",
   "execution_count": null,
   "metadata": {
    "deletable": false,
    "editable": false,
    "nbgrader": {
     "cell_type": "code",
     "checksum": "00736c2da853ae4963ae684950aab91e",
     "grade": true,
     "grade_id": "cell-23e62b07c7bdf3df",
     "locked": true,
     "points": 1,
     "schema_version": 3,
     "solution": false,
     "task": false
    }
   },
   "outputs": [],
   "source": []
  },
  {
   "cell_type": "markdown",
   "metadata": {
    "deletable": false,
    "editable": false,
    "nbgrader": {
     "cell_type": "markdown",
     "checksum": "e339bf01c8b388d6ef689f7567ef14e4",
     "grade": false,
     "grade_id": "cell-f070fe33fd442069",
     "locked": true,
     "schema_version": 3,
     "solution": false,
     "task": false
    }
   },
   "source": [
    "4. Plot the evolution of the loss and go back to training, tweaking the learning rate / number of iterations until the plot looks satisfactory."
   ]
  },
  {
   "cell_type": "code",
   "execution_count": 24,
   "metadata": {
    "deletable": false,
    "nbgrader": {
     "cell_type": "code",
     "checksum": "b9fc946825524a01972fd9404b5abd1e",
     "grade": true,
     "grade_id": "cell-ac5b89a05c004f79",
     "locked": false,
     "points": 0,
     "schema_version": 3,
     "solution": true,
     "task": false
    }
   },
   "outputs": [
    {
     "data": {
      "image/png": "[encoded data removed]",
      "text/plain": [
       "<Figure size 640x480 with 1 Axes>"
      ]
     },
     "metadata": {},
     "output_type": "display_data"
    }
   ],
   "source": [
    "# YOUR CODE HERE\n",
    "# raise NotImplementedError()\n",
    "\n",
    "plt.plot(network.loss)\n",
    "plt.show()"
   ]
  },
  {
   "cell_type": "markdown",
   "metadata": {
    "colab_type": "text",
    "deletable": false,
    "editable": false,
    "id": "2fwDAYxw_C0T",
    "nbgrader": {
     "cell_type": "markdown",
     "checksum": "6d1a120bbc11cf66bce4a7ca6f139a58",
     "grade": false,
     "grade_id": "cell-5746671ea9e7d9ea",
     "locked": true,
     "schema_version": 3,
     "solution": false,
     "task": false
    }
   },
   "source": [
    "3. Compute the accuracy of the model (and put it in `accuracy`) on the test data and compare a few predictions to their images in grayscale (see labels [here](https://github.com/zalandoresearch/fashion-mnist#labels))."
   ]
  },
  {
   "cell_type": "code",
   "execution_count": 25,
   "metadata": {
    "colab": {},
    "colab_type": "code",
    "deletable": false,
    "id": "6T0gWj6M_C0T",
    "nbgrader": {
     "cell_type": "code",
     "checksum": "13174a4ccffa6479e7e8a1ef037d8fcc",
     "grade": false,
     "grade_id": "cell-7c906940128eb844",
     "locked": false,
     "schema_version": 3,
     "solution": true,
     "task": false
    }
   },
   "outputs": [
    {
     "name": "stderr",
     "output_type": "stream",
     "text": [
      "/tmp/ipykernel_296376/2029569746.py:14: RuntimeWarning: overflow encountered in exp\n",
      "  return 1.0 / (1.0 + np.exp(-x))\n"
     ]
    },
    {
     "data": {
      "image/png": "[encoded data removed]",
      "text/plain": [
       "<Figure size 2000x800 with 10 Axes>"
      ]
     },
     "metadata": {},
     "output_type": "display_data"
    }
   ],
   "source": [
    "# Compute the accuracy\n",
    "# accuracy = ...\n",
    "\n",
    "# For example, display an example of a class probability and its true value\n",
    "# YOUR CODE HERE\n",
    "#raise NotImplementedError()\n",
    "y_pred, _, _ = network.feed_forward(x_test.reshape([10000, 784]))\n",
    "accuracy = np.logical_and(y_test.astype(int),(y_pred == y_pred.max(axis=1)[:,None]).astype(int)).sum()/len(y_test)\n",
    "\n",
    "labels = [label for label in range(y_test_copy.min(), y_test_copy.max() + 1)]\n",
    "n_rows = 2  \n",
    "n_cols = 5\n",
    "fig, axes = plt.subplots(n_rows, n_cols, figsize=(n_cols * 4, n_rows * 4))  # Adjust figsize as needed\n",
    "axes = axes.flatten()\n",
    "\n",
    "for i, label in enumerate(labels):\n",
    "    index = np.where(y_test_copy == label)[0][0]\n",
    "    ax = axes[i]\n",
    "    ax.imshow(x_test[index], cmap = 'gray')\n",
    "    pred_label, _, _ = network.feed_forward(x_test[index].reshape(1, 784))\n",
    "    pred_label = np.argmax(pred_label)\n",
    "    ax.set_title(f\"True label: {label}, Pred label: {pred_label}\")\n",
    "    ax.axis('off')\n",
    "\n",
    "plt.tight_layout()\n",
    "plt.show()"
   ]
  },
  {
   "cell_type": "code",
   "execution_count": null,
   "metadata": {
    "deletable": false,
    "editable": false,
    "nbgrader": {
     "cell_type": "code",
     "checksum": "2839dfd13cfd41529e85bfc65692160a",
     "grade": true,
     "grade_id": "cell-08097250a35a932d",
     "locked": true,
     "points": 2,
     "schema_version": 3,
     "solution": false,
     "task": false
    }
   },
   "outputs": [],
   "source": []
  },
  {
   "cell_type": "markdown",
   "metadata": {
    "deletable": false,
    "editable": false,
    "nbgrader": {
     "cell_type": "markdown",
     "checksum": "6e09987ee39d0d567fc285a23c7254b9",
     "grade": false,
     "grade_id": "cell-fdaca609f7df09ab",
     "locked": true,
     "schema_version": 3,
     "solution": false,
     "task": false
    }
   },
   "source": [
    "## Exercise 6: Multiple choice quiz testing your understanding of core concepts\n",
    "\n",
    "Please fill in the dictionary in the next code cell with the correct answers to the below questions. Please note that each question only has one correct answer and that the answers entered into the dictionary should in captial letters and of string type. \n",
    "\n",
    "**Question 1**:\n",
    "This is an example question to illustrate the answer format.\n",
    "\n",
    "A) Wrong Answer. \n",
    "\n",
    "B) Right Answer.\n",
    "\n",
    "**Question 2**:\n",
    "In which learning task is the cross-entropy loss most suitable?\n",
    "\n",
    "A) Regression. \n",
    "\n",
    "B) Classification.\n",
    "\n",
    "**Question 3**:\n",
    "In which learning task is the quadratic loss most suitable?\n",
    "\n",
    "A) Regression. \n",
    "\n",
    "B) Classification.\n",
    "\n",
    "**Question 4**:\n",
    "In the backpropagation algorithm used to train neural networks, which gradients do we use to update the neural network parameters?\n",
    "\n",
    "A) the gradient of the loss with respect to the input. \n",
    "\n",
    "B) the gradient of the loss with respect to the true labels. \n",
    "\n",
    "C) the gradient of the loss with respect to the parameters. \n",
    "\n",
    "**Question 5**:\n",
    "True or False: \"In the update step function implementing Gradient Descent the gradients corresponding to the different datapoints are averaged\".\n",
    "\n",
    "A) This statement is true. \n",
    "\n",
    "B) This statement is false.\n",
    "\n",
    "**Question 6**:\n",
    "Does the loss of a neural network decrease at every epoch throughout training for all datasets and learning tasks?\n",
    "\n",
    "A) No, the loss can increase for certain epochs. \n",
    "\n",
    "B) Yes, the loss is always strictly decreasing throughout training.\n",
    "\n",
    "**Question 7**:\n",
    "If a neural network takes inputs of dimension 784 and the first hidden layer is composed of 64 neurons (using the notation $\\sigma(xW+b)$, where $x \\in \\mathbb{R}^{1 \\times 784}$ is the input). What are the dimensions of the weight matrix $W$ and the bias vector $b$?\n",
    "\n",
    "A) $W\\in \\mathbb{R}^{784 \\times 64}$ and $b\\in \\mathbb{R}^{784}$. \n",
    "\n",
    "B) $W\\in \\mathbb{R}^{50176 \\times 64}$ and $b\\in \\mathbb{R}^{64}$. \n",
    "\n",
    "C) $W\\in \\mathbb{R}^{64 \\times 784}$ and $b\\in \\mathbb{R}^{784}$. \n",
    "\n",
    "D) $W\\in \\mathbb{R}^{784 \\times 64}$ and $b\\in \\mathbb{R}^{64}$. \n",
    "\n",
    "**Question 8**:\n",
    "What is the total number of parameters (including weight matrices and bias vectors) of a neural network, that takes 2 dimensional inputs, contains one single hidden layer of dimension 32 and gives 1 dimensional outputs?\n",
    "\n",
    "A) 99. \n",
    "\n",
    "B) 129.\n",
    "\n",
    "C) 161.\n",
    "\n",
    "D) 225.\n"
   ]
  },
  {
   "cell_type": "code",
   "execution_count": 26,
   "metadata": {
    "deletable": false,
    "nbgrader": {
     "cell_type": "code",
     "checksum": "1e879f1485356411b38a79f1e95e930c",
     "grade": false,
     "grade_id": "cell-0256fdb92b0165dd",
     "locked": false,
     "schema_version": 3,
     "solution": true,
     "task": false
    }
   },
   "outputs": [],
   "source": [
    "# YOUR CODE HERE\n",
    "# raise NotImplementedError()\n",
    "\n",
    "# Uncomment the following dictionary and put your answers\n",
    " answers= {\n",
    "     \"q1\": \"B\",\n",
    "     \"q2\": \"B\",\n",
    "     \"q3\": \"A\",\n",
    "     \"q4\": \"C\",\n",
    "     \"q5\": \"A\",\n",
    "     \"q6\": \"A\",\n",
    "     \"q7\": \"D\",\n",
    "     \"q8\": \"B\",    \n",
    " }"
   ]
  },
  {
   "cell_type": "code",
   "execution_count": null,
   "metadata": {
    "deletable": false,
    "editable": false,
    "nbgrader": {
     "cell_type": "code",
     "checksum": "f1d1175a6928be47a9ef4aac33c5a24f",
     "grade": true,
     "grade_id": "cell-57bcaff8304016fd",
     "locked": true,
     "points": 1,
     "schema_version": 3,
     "solution": false,
     "task": false
    }
   },
   "outputs": [],
   "source": []
  },
  {
   "cell_type": "code",
   "execution_count": null,
   "metadata": {
    "deletable": false,
    "editable": false,
    "nbgrader": {
     "cell_type": "code",
     "checksum": "3a630e1151ecbc6f94cfbb7c270e0045",
     "grade": true,
     "grade_id": "cell-4556ea8000bcdb8c",
     "locked": true,
     "points": 1,
     "schema_version": 3,
     "solution": false,
     "task": false
    }
   },
   "outputs": [],
   "source": []
  },
  {
   "cell_type": "code",
   "execution_count": null,
   "metadata": {
    "deletable": false,
    "editable": false,
    "nbgrader": {
     "cell_type": "code",
     "checksum": "7405c5579e2cf3c047ce174c3b9d1b7b",
     "grade": true,
     "grade_id": "cell-b816abcc00ea8d8b",
     "locked": true,
     "points": 1,
     "schema_version": 3,
     "solution": false,
     "task": false
    }
   },
   "outputs": [],
   "source": []
  },
  {
   "cell_type": "code",
   "execution_count": null,
   "metadata": {
    "deletable": false,
    "editable": false,
    "nbgrader": {
     "cell_type": "code",
     "checksum": "2bd9f96249ae3fca05535c683a75b207",
     "grade": true,
     "grade_id": "cell-0416f452476e1076",
     "locked": true,
     "points": 1,
     "schema_version": 3,
     "solution": false,
     "task": false
    }
   },
   "outputs": [],
   "source": []
  },
  {
   "cell_type": "code",
   "execution_count": null,
   "metadata": {
    "deletable": false,
    "editable": false,
    "nbgrader": {
     "cell_type": "code",
     "checksum": "b09b2e20eeadd150a9e863b7921e75de",
     "grade": true,
     "grade_id": "cell-9caddaee5c2852d3",
     "locked": true,
     "points": 1,
     "schema_version": 3,
     "solution": false,
     "task": false
    }
   },
   "outputs": [],
   "source": []
  },
  {
   "cell_type": "code",
   "execution_count": null,
   "metadata": {
    "deletable": false,
    "editable": false,
    "nbgrader": {
     "cell_type": "code",
     "checksum": "e9eea0ac18e1cb5a3a8441af98fc96c9",
     "grade": true,
     "grade_id": "cell-7cc6e46bcae0fe19",
     "locked": true,
     "points": 1,
     "schema_version": 3,
     "solution": false,
     "task": false
    }
   },
   "outputs": [],
   "source": []
  },
  {
   "cell_type": "code",
   "execution_count": null,
   "metadata": {
    "deletable": false,
    "editable": false,
    "nbgrader": {
     "cell_type": "code",
     "checksum": "a6e0750ec8645e8caf7cd5106b3ee7ec",
     "grade": true,
     "grade_id": "cell-c9036de2b2e82d74",
     "locked": true,
     "points": 1,
     "schema_version": 3,
     "solution": false,
     "task": false
    }
   },
   "outputs": [],
   "source": []
  },
  {
   "cell_type": "markdown",
   "metadata": {
    "colab_type": "text",
    "deletable": false,
    "editable": false,
    "id": "igiC3hoK8Sml",
    "nbgrader": {
     "cell_type": "markdown",
     "checksum": "2210033cfc420b9750f2b558d6b8bb49",
     "grade": false,
     "grade_id": "cell-5271b4893d50b9fb",
     "locked": true,
     "schema_version": 3,
     "solution": false,
     "task": false
    }
   },
   "source": [
    "# Extra\n",
    "\n",
    "You now have a fully functioning neural network model which can be used in real machine-learning problems.  There are many things which you could add at this point to make the model more effective.  Consider playing with some of the following:\n",
    "\n",
    "- Adding weight regularization\n",
    "- Using different activation functions such as ReLU or Tanh\n",
    "- Improve the efficiency by making the backprop algorithm work on whole batches at once\n",
    "- Implement the SGD algorithm\n",
    "- Redesign the model to allow plug-and-play layers to be stacked together, allowing more complicated layers such as convolutions to be used.\n",
    "\n",
    "Of course the list is endless, just have fun!"
   ]
  },
  {
   "cell_type": "markdown",
   "metadata": {
    "colab_type": "text",
    "deletable": false,
    "editable": false,
    "id": "ajeTludS8Smm",
    "nbgrader": {
     "cell_type": "markdown",
     "checksum": "190c748fb34b68af38156aa495d3dcd4",
     "grade": false,
     "grade_id": "cell-0455e8c24e6650a7",
     "locked": true,
     "schema_version": 3,
     "solution": false,
     "task": false
    }
   },
   "source": [
    "## Next Step: Using Tensorflow\n",
    "\n",
    "As you have now seen, building a neural network and training from scratch can require a significant amount of effort.  Furthermore, the naive design of our `Network` class does not allow us to easily incorporate new kinds of layers such as convolutions, dropout, or batch normalization.  In practice of course, several libraries already exist that provide all of this functionality for you, so that you can focus on building a model for your specific dataset.  Here, we will show you how to redo the fashion classification example above, with less than 10 lines of code using the Tensorflow library. You can [find this example](https://www.tensorflow.org/tutorials) directly on the Tensorflow website if you are interested.  Let's walk through the code below.\n",
    "\n",
    "### Import Tensorflow and download the MNIST dataset\n",
    "\n",
    "Tensorflow includes a high-level neural network architecture building API called Keras which makes it easy to create neural network models using \"off-the-shelf\" layers.  In addition, Keras also provides commonly used datasets, such as the MNIST dataset.  "
   ]
  },
  {
   "cell_type": "markdown",
   "metadata": {
    "colab_type": "text",
    "deletable": false,
    "editable": false,
    "id": "h44cp_s18Smo",
    "nbgrader": {
     "cell_type": "markdown",
     "checksum": "3908f17ca0fd7aa44819056fb83e7391",
     "grade": false,
     "grade_id": "cell-9bccc8c26401d948",
     "locked": true,
     "schema_version": 3,
     "solution": false,
     "task": false
    }
   },
   "source": [
    "### Build the NN model\n",
    "\n",
    "In the next two cells, the Keras API is used to create a simple NN model with the following layers:\n",
    "\n",
    "- `Flatten` takes an N-dimensional array and reshapes it into a 1D array. In this case, the images are 28x28 pixels, which get converted to a 784 1D tensor.\n",
    "- `Dense` is exactly like the type of implicit layers we coded in our `Network` class.  That is, they take some 1D input and apply a linear transformation before applying a nonlinear activation.  In this case we are using 512 nodes in the dense layer.\n",
    "- `Dropout` is a little more advanced.  As you have seen in the lecture, a dropout layer sets some percentage of the inputs to the layer to zero.  During training, each time data is propagated through the dropout layer, a different random set of nodes is zeroed out.  This forces the network to make more generalizations about the data and reduces overfitting.  When training is done, the dropout layer allows all the nodes to pass through, but multiplies the result by the dropout factor such that the sum remains the same.  In this case, 20% of the nodes are randomly canceled out during training and the result during evaluation is multiplied by 0.8.  \n",
    "- The final layer is a dense layer of 10 nodes corresponding to the one-hot encoding of the digit labels.  Note that a softmax activation function is used so that these nodes will represent probabilities.\n",
    "\n",
    "In the second cell, the model is \"compiled\" with an optimizer (Adam), loss function (sparse categorical crossentropy), and a metric, which is responsible for providing useful output during training.  In this case, the `accuracy` metric is used which computes the total number of training samples that were correctly categorized as training progresses.\n",
    "\n",
    "You may modify the model as you wish."
   ]
  },
  {
   "cell_type": "code",
   "execution_count": 27,
   "metadata": {
    "colab": {},
    "colab_type": "code",
    "id": "fj-WRBsu8Smp"
   },
   "outputs": [
    {
     "name": "stderr",
     "output_type": "stream",
     "text": [
      "2024-04-10 23:36:36.004109: I external/local_xla/xla/stream_executor/cuda/cuda_executor.cc:901] successful NUMA node read from SysFS had negative value (-1), but there must be at least one NUMA node, so returning NUMA node zero. See more at https://github.com/torvalds/linux/blob/v6.0/Documentation/ABI/testing/sysfs-bus-pci#L344-L355\n",
      "2024-04-10 23:36:36.019822: I external/local_xla/xla/stream_executor/cuda/cuda_executor.cc:901] successful NUMA node read from SysFS had negative value (-1), but there must be at least one NUMA node, so returning NUMA node zero. See more at https://github.com/torvalds/linux/blob/v6.0/Documentation/ABI/testing/sysfs-bus-pci#L344-L355\n",
      "2024-04-10 23:36:36.019971: I external/local_xla/xla/stream_executor/cuda/cuda_executor.cc:901] successful NUMA node read from SysFS had negative value (-1), but there must be at least one NUMA node, so returning NUMA node zero. See more at https://github.com/torvalds/linux/blob/v6.0/Documentation/ABI/testing/sysfs-bus-pci#L344-L355\n",
      "2024-04-10 23:36:36.021742: I external/local_xla/xla/stream_executor/cuda/cuda_executor.cc:901] successful NUMA node read from SysFS had negative value (-1), but there must be at least one NUMA node, so returning NUMA node zero. See more at https://github.com/torvalds/linux/blob/v6.0/Documentation/ABI/testing/sysfs-bus-pci#L344-L355\n",
      "2024-04-10 23:36:36.021867: I external/local_xla/xla/stream_executor/cuda/cuda_executor.cc:901] successful NUMA node read from SysFS had negative value (-1), but there must be at least one NUMA node, so returning NUMA node zero. See more at https://github.com/torvalds/linux/blob/v6.0/Documentation/ABI/testing/sysfs-bus-pci#L344-L355\n",
      "2024-04-10 23:36:36.021967: I external/local_xla/xla/stream_executor/cuda/cuda_executor.cc:901] successful NUMA node read from SysFS had negative value (-1), but there must be at least one NUMA node, so returning NUMA node zero. See more at https://github.com/torvalds/linux/blob/v6.0/Documentation/ABI/testing/sysfs-bus-pci#L344-L355\n",
      "2024-04-10 23:36:36.069079: I external/local_xla/xla/stream_executor/cuda/cuda_executor.cc:901] successful NUMA node read from SysFS had negative value (-1), but there must be at least one NUMA node, so returning NUMA node zero. See more at https://github.com/torvalds/linux/blob/v6.0/Documentation/ABI/testing/sysfs-bus-pci#L344-L355\n",
      "2024-04-10 23:36:36.069200: I external/local_xla/xla/stream_executor/cuda/cuda_executor.cc:901] successful NUMA node read from SysFS had negative value (-1), but there must be at least one NUMA node, so returning NUMA node zero. See more at https://github.com/torvalds/linux/blob/v6.0/Documentation/ABI/testing/sysfs-bus-pci#L344-L355\n",
      "2024-04-10 23:36:36.069298: I external/local_xla/xla/stream_executor/cuda/cuda_executor.cc:901] successful NUMA node read from SysFS had negative value (-1), but there must be at least one NUMA node, so returning NUMA node zero. See more at https://github.com/torvalds/linux/blob/v6.0/Documentation/ABI/testing/sysfs-bus-pci#L344-L355\n",
      "2024-04-10 23:36:36.069359: I tensorflow/core/common_runtime/gpu/gpu_device.cc:1929] Created device /job:localhost/replica:0/task:0/device:GPU:0 with 8858 MB memory:  -> device: 0, name: NVIDIA RTX A2000 12GB, pci bus id: 0000:01:00.0, compute capability: 8.6\n"
     ]
    }
   ],
   "source": [
    "model = tf.keras.models.Sequential([\n",
    "  tf.keras.layers.Flatten(input_shape=(28, 28)),\n",
    "  tf.keras.layers.Dense(512, activation=tf.nn.relu),\n",
    "  tf.keras.layers.Dropout(0.2),\n",
    "  tf.keras.layers.Dense(10, activation=tf.nn.softmax)\n",
    "])"
   ]
  },
  {
   "cell_type": "code",
   "execution_count": 28,
   "metadata": {},
   "outputs": [],
   "source": [
    "model.compile(optimizer='adam',\n",
    "              loss='categorical_crossentropy',\n",
    "              metrics=['accuracy'])"
   ]
  },
  {
   "cell_type": "markdown",
   "metadata": {
    "colab_type": "text",
    "deletable": false,
    "editable": false,
    "id": "EwMXv8T_8Sms",
    "nbgrader": {
     "cell_type": "markdown",
     "checksum": "dccfe80cf80907ee9233874804851ddc",
     "grade": false,
     "grade_id": "cell-e83e0c52ff8080e5",
     "locked": true,
     "schema_version": 3,
     "solution": false,
     "task": false
    }
   },
   "source": [
    "### Train and evaluate the model\n",
    "\n",
    "In the last step, we train the model.  This happens in the first line below, were we call the model's `fit` function, which takes the training data and a number of epochs.  The number of batches per epoch is handled by default.  In the second line, we evaluate the model on our testing data to see how well it does on data it has never seen before.  Note that we get a ~ 79% accuracy with this simple model!"
   ]
  },
  {
   "cell_type": "code",
   "execution_count": 29,
   "metadata": {},
   "outputs": [],
   "source": [
    "n_epoch = 5"
   ]
  },
  {
   "cell_type": "code",
   "execution_count": 30,
   "metadata": {
    "colab": {},
    "colab_type": "code",
    "deletable": false,
    "editable": false,
    "id": "RVEPKwjU8Sms",
    "nbgrader": {
     "cell_type": "code",
     "checksum": "37a488f2a6c6ac18ae8c8100478f288a",
     "grade": false,
     "grade_id": "cell-09eaf4cfaec4ab83",
     "locked": true,
     "schema_version": 3,
     "solution": false,
     "task": false
    }
   },
   "outputs": [
    {
     "name": "stdout",
     "output_type": "stream",
     "text": [
      "Epoch 1/5\n"
     ]
    },
    {
     "name": "stderr",
     "output_type": "stream",
     "text": [
      "2024-04-10 23:36:37.079469: I external/local_xla/xla/service/service.cc:168] XLA service 0x7f071a26ea40 initialized for platform CUDA (this does not guarantee that XLA will be used). Devices:\n",
      "2024-04-10 23:36:37.079488: I external/local_xla/xla/service/service.cc:176]   StreamExecutor device (0): NVIDIA RTX A2000 12GB, Compute Capability 8.6\n",
      "2024-04-10 23:36:37.083274: I tensorflow/compiler/mlir/tensorflow/utils/dump_mlir_util.cc:269] disabling MLIR crash reproducer, set env var `MLIR_CRASH_REPRODUCER_DIRECTORY` to enable.\n",
      "2024-04-10 23:36:37.094707: I external/local_xla/xla/stream_executor/cuda/cuda_dnn.cc:454] Loaded cuDNN version 8902\n",
      "WARNING: All log messages before absl::InitializeLog() is called are written to STDERR\n",
      "I0000 00:00:1712784997.160642  296458 device_compiler.h:186] Compiled cluster using XLA!  This line is logged at most once for the lifetime of the process.\n"
     ]
    },
    {
     "name": "stdout",
     "output_type": "stream",
     "text": [
      "1875/1875 [==============================] - 3s 1ms/step - loss: 3.1517 - accuracy: 0.6978\n",
      "Epoch 2/5\n",
      "1875/1875 [==============================] - 2s 1ms/step - loss: 0.7327 - accuracy: 0.7358\n",
      "Epoch 3/5\n",
      "1875/1875 [==============================] - 2s 1ms/step - loss: 0.6982 - accuracy: 0.7482\n",
      "Epoch 4/5\n",
      "1875/1875 [==============================] - 2s 1ms/step - loss: 0.7030 - accuracy: 0.7441\n",
      "Epoch 5/5\n",
      "1875/1875 [==============================] - 2s 1ms/step - loss: 0.6848 - accuracy: 0.7486\n",
      "313/313 [==============================] - 0s 872us/step - loss: 0.5801 - accuracy: 0.7907\n",
      "Final test loss: 0.5800907015800476\n",
      "Final test accuracy: 0.7907000184059143\n"
     ]
    }
   ],
   "source": [
    "model.fit(x_train, y_train, epochs=n_epoch)\n",
    "loss, acc = model.evaluate(x_test, y_test)\n",
    "print(\"Final test loss:\", loss)\n",
    "print(\"Final test accuracy:\", acc)"
   ]
  },
  {
   "cell_type": "code",
   "execution_count": 31,
   "metadata": {
    "deletable": false,
    "editable": false,
    "nbgrader": {
     "cell_type": "code",
     "checksum": "2745c47b99bad61b4b9c449aa3149690",
     "grade": false,
     "grade_id": "cell-de90e01fe6b77e9a",
     "locked": true,
     "schema_version": 3,
     "solution": false,
     "task": false
    }
   },
   "outputs": [
    {
     "name": "stdout",
     "output_type": "stream",
     "text": [
      "313/313 [==============================] - 0s 616us/step\n",
      "The probabilities for each class for the first test point:\n",
      " [[5.7570550e-12]\n",
      " [6.6157182e-09]\n",
      " [6.0867002e-18]\n",
      " [3.8990808e-13]\n",
      " [8.3682461e-22]\n",
      " [2.2686897e-02]\n",
      " [3.1717926e-17]\n",
      " [8.3465248e-02]\n",
      " [7.1184707e-12]\n",
      " [8.9384782e-01]]\n",
      "The true class of the first test point:\n",
      " [[0.]\n",
      " [0.]\n",
      " [0.]\n",
      " [0.]\n",
      " [0.]\n",
      " [0.]\n",
      " [0.]\n",
      " [0.]\n",
      " [0.]\n",
      " [1.]]\n"
     ]
    },
    {
     "data": {
      "image/png": "[encoded data removed]",
      "text/plain": [
       "<Figure size 640x480 with 1 Axes>"
      ]
     },
     "metadata": {},
     "output_type": "display_data"
    }
   ],
   "source": [
    "print(\"The probabilities for each class for the first test point:\\n\", model.predict(x_test)[0, :].reshape(-1, 1))\n",
    "print(\"The true class of the first test point:\\n\", y_test[0].reshape(-1, 1))\n",
    "plt.imshow(x_test[0, :], cmap='gray');"
   ]
  },
  {
   "cell_type": "markdown",
   "metadata": {
    "deletable": false,
    "editable": false,
    "nbgrader": {
     "cell_type": "markdown",
     "checksum": "47e9636c74daf4b3a7190c1ff01fc2e8",
     "grade": false,
     "grade_id": "cell-a4c11d593bc96741",
     "locked": true,
     "schema_version": 3,
     "solution": false,
     "task": false
    }
   },
   "source": [
    "Let's do the same with PyTorch. There are many deep learning frameworks, but Tensorflow and PyTorch are the most used, with Tensorflow becoming out-of-fashion (!) in favor of PyTorch, generally dubbed \"simpler\" (well, we'll see how that turns out!).\n",
    "\n",
    "(Tensorflow is indeed more complicated but in the code above, we relied on Keras, a library built on top and meant to simplify the usage of several deep learning frameworks.)"
   ]
  },
  {
   "cell_type": "code",
   "execution_count": 32,
   "metadata": {
    "deletable": false,
    "editable": false,
    "nbgrader": {
     "cell_type": "code",
     "checksum": "b2855273f18401e6a001604f949112ed",
     "grade": false,
     "grade_id": "cell-4edc051932641d80",
     "locked": true,
     "schema_version": 3,
     "solution": false,
     "task": false
    }
   },
   "outputs": [],
   "source": [
    "from torch import nn, optim, no_grad\n",
    "from torch import float as torch_float\n",
    "from torchvision import datasets\n",
    "from torchvision.transforms import ToTensor\n",
    "from torch.utils.data import DataLoader"
   ]
  },
  {
   "cell_type": "markdown",
   "metadata": {
    "deletable": false,
    "editable": false,
    "nbgrader": {
     "cell_type": "markdown",
     "checksum": "ff938f71663f2ce5b5b13a89e46efb57",
     "grade": false,
     "grade_id": "cell-67ea98f77f40cea8",
     "locked": true,
     "schema_version": 3,
     "solution": false,
     "task": false
    }
   },
   "source": [
    "Re-download and/or unzip the MNIST dataset with the torch API / format with the following commands."
   ]
  },
  {
   "cell_type": "code",
   "execution_count": 33,
   "metadata": {
    "deletable": false,
    "editable": false,
    "nbgrader": {
     "cell_type": "code",
     "checksum": "60165a42e4a6e53baadf8e562eb68f61",
     "grade": false,
     "grade_id": "cell-26a8f5cd53d883bd",
     "locked": true,
     "schema_version": 3,
     "solution": false,
     "task": false
    }
   },
   "outputs": [],
   "source": [
    "%%bash\n",
    "mkdir -p $HOME/.keras/datasets/FashionMNIST\n",
    "ln -s -f $HOME/.keras/datasets/fashion-mnist $HOME/.keras/datasets/FashionMNIST/raw"
   ]
  },
  {
   "cell_type": "code",
   "execution_count": 34,
   "metadata": {
    "deletable": false,
    "editable": false,
    "nbgrader": {
     "cell_type": "code",
     "checksum": "19c837b590fb9ecb58b7180120681cd6",
     "grade": false,
     "grade_id": "cell-1a622c25bcea94a8",
     "locked": true,
     "schema_version": 3,
     "solution": false,
     "task": false
    }
   },
   "outputs": [],
   "source": [
    "training_data = datasets.FashionMNIST(\n",
    "    root=\"~/.keras/datasets\",\n",
    "    train=True,\n",
    "    download=True,\n",
    "    transform=ToTensor(),\n",
    ")\n",
    "\n",
    "test_data = datasets.FashionMNIST(\n",
    "    root=\"~/.keras/datasets\",\n",
    "    train=False,\n",
    "    download=True,\n",
    "    transform=ToTensor(),\n",
    ")"
   ]
  },
  {
   "cell_type": "markdown",
   "metadata": {
    "deletable": false,
    "editable": false,
    "nbgrader": {
     "cell_type": "markdown",
     "checksum": "c39926a134ed3d02bf4fdc1b21183423",
     "grade": false,
     "grade_id": "cell-caeccfe11d18a90f",
     "locked": true,
     "schema_version": 3,
     "solution": false,
     "task": false
    }
   },
   "source": [
    "Create data loaders (iterators over the training and testing data, think `range`)."
   ]
  },
  {
   "cell_type": "code",
   "execution_count": 35,
   "metadata": {
    "deletable": false,
    "editable": false,
    "nbgrader": {
     "cell_type": "code",
     "checksum": "2ab8d35b883ae3b9d161e31efae8729d",
     "grade": false,
     "grade_id": "cell-522f014087e0bda1",
     "locked": true,
     "schema_version": 3,
     "solution": false,
     "task": false
    }
   },
   "outputs": [],
   "source": [
    "train_dataloader = DataLoader(training_data, batch_size=64)\n",
    "test_dataloader = DataLoader(test_data, batch_size=64)"
   ]
  },
  {
   "cell_type": "markdown",
   "metadata": {
    "deletable": false,
    "editable": false,
    "nbgrader": {
     "cell_type": "markdown",
     "checksum": "e81ea3059b8c871f99f6a6cd2ba45a98",
     "grade": false,
     "grade_id": "cell-bc450847658afa79",
     "locked": true,
     "schema_version": 3,
     "solution": false,
     "task": false
    }
   },
   "source": [
    "Create the model as a class inheriting from nn.Module.\n",
    "You must at least define `__init__`, where you might want to define the structure of your network, as well as the `forward` method (which is basically `feed_forward`)."
   ]
  },
  {
   "cell_type": "code",
   "execution_count": 36,
   "metadata": {},
   "outputs": [],
   "source": [
    "class NeuralNetwork(nn.Module):\n",
    "    def __init__(self):\n",
    "        super(NeuralNetwork, self).__init__()\n",
    "        self.flatten = nn.Flatten()\n",
    "        self.linear_relu_stack = nn.Sequential(\n",
    "            nn.Linear(28 * 28, 512),\n",
    "            nn.ReLU(),\n",
    "            nn.Linear(512, 512),\n",
    "            nn.ReLU(),\n",
    "            nn.Dropout(0.2),\n",
    "            nn.Linear(512, 10),\n",
    "            nn.ReLU()\n",
    "        )\n",
    "\n",
    "    def forward(self, x):\n",
    "        x = self.flatten(x)\n",
    "        logits = self.linear_relu_stack(x)\n",
    "        return logits"
   ]
  },
  {
   "cell_type": "markdown",
   "metadata": {
    "deletable": false,
    "editable": false,
    "nbgrader": {
     "cell_type": "markdown",
     "checksum": "6aa8960ad011843822a2512b171fdae8",
     "grade": false,
     "grade_id": "cell-a54e7019d6d16fca",
     "locked": true,
     "schema_version": 3,
     "solution": false,
     "task": false
    }
   },
   "source": [
    "Instantiate your model by instantiating an object of this new class. You still need a loss function (our `Cost`), and an optimizer (we hard-coded Gradient Descent in `Network`).\n",
    "\n",
    "Then we iterate on the training data for a given number of epochs, using a `for` loop. At each iteration, we must:\n",
    "* Perform the feedforward pass;\n",
    "* Compute the loss ($\\delta^L$);\n",
    "* Perform backpropagation by:\n",
    "    * Calculating the loss and the gradients of $W$ and $b$ for $l < L$;\n",
    "    * Update the parameters $W$ and $b$."
   ]
  },
  {
   "cell_type": "code",
   "execution_count": 37,
   "metadata": {},
   "outputs": [],
   "source": [
    "model = NeuralNetwork()\n",
    "loss_fn = nn.CrossEntropyLoss()\n",
    "optimizer = optim.Adam(model.parameters(), lr=1e-3, eps=1e-07)\n",
    "model.train()  # Switch to training mode\n",
    "\n",
    "for _ in range(n_epoch):\n",
    "    for batch, (X, y) in enumerate(train_dataloader):\n",
    "        # Compute prediction error\n",
    "        pred = model(X)\n",
    "        loss = loss_fn(pred, y)\n",
    "\n",
    "        # Backpropagation\n",
    "        optimizer.zero_grad()\n",
    "        loss.backward()\n",
    "        optimizer.step()"
   ]
  },
  {
   "cell_type": "markdown",
   "metadata": {
    "deletable": false,
    "editable": false,
    "nbgrader": {
     "cell_type": "markdown",
     "checksum": "67be09feb4aada1b0f2a4c8745a3931f",
     "grade": false,
     "grade_id": "cell-c8aa5b3d3fb3c60d",
     "locked": true,
     "schema_version": 3,
     "solution": false,
     "task": false
    }
   },
   "source": [
    "To compute the testing loss / error, we use the iterator over the test dataset and the loss function, which we previously defined."
   ]
  },
  {
   "cell_type": "code",
   "execution_count": 38,
   "metadata": {},
   "outputs": [
    {
     "name": "stdout",
     "output_type": "stream",
     "text": [
      "Test Error: \n",
      " Accuracy: 77.2%, Avg loss: 0.009133 \n",
      "\n"
     ]
    }
   ],
   "source": [
    "model.eval()  # Switch to evaluation mode\n",
    "test_loss, correct = 0, 0\n",
    "# Do not compute the gradient\n",
    "with no_grad():\n",
    "    for X, y in test_dataloader:\n",
    "        pred = model(X)\n",
    "        test_loss += loss_fn(pred, y).item()\n",
    "        correct += (pred.argmax(1) == y).type(torch_float).sum().item()\n",
    "test_loss /= len(test_dataloader.dataset)\n",
    "correct /= len(test_dataloader.dataset)\n",
    "print(f\"Test Error: \\n Accuracy: {(100 * correct):>0.1f}%, Avg loss: {test_loss:>8f} \\n\")"
   ]
  },
  {
   "cell_type": "markdown",
   "metadata": {
    "deletable": false,
    "editable": false,
    "nbgrader": {
     "cell_type": "markdown",
     "checksum": "3e4078506a9141786cbcacb446310b57",
     "grade": false,
     "grade_id": "cell-539006407770e5bf",
     "locked": true,
     "schema_version": 3,
     "solution": false,
     "task": false
    }
   },
   "source": [
    "## Your turn (Bonus)\n",
    "Play with tensorflow / keras and / or pytorch and provide your own model and training routine.\n",
    "\n",
    "Try to separate the data into train / dev / test where train is used to train the model, dev is used to evaluate the model's performance at each epoch, and test is hold out until the end of the training.\n",
    "\n",
    "You may want to test on other datasets. See [keras datasets](https://keras.io/api/datasets/) and [PyTorch datasets](https://pytorch.org/vision/stable/datasets.html)."
   ]
  },
  {
   "cell_type": "code",
   "execution_count": 39,
   "metadata": {},
   "outputs": [
    {
     "name": "stdout",
     "output_type": "stream",
     "text": [
      "Epoch 1/10\n",
      "1875/1875 [==============================] - 3s 1ms/step - loss: 0.2557 - accuracy: 0.9267 - val_loss: 0.1754 - val_accuracy: 0.9438\n",
      "Epoch 2/10\n",
      "1875/1875 [==============================] - 2s 1ms/step - loss: 0.1116 - accuracy: 0.9668 - val_loss: 0.1459 - val_accuracy: 0.9552\n",
      "Epoch 3/10\n",
      "1875/1875 [==============================] - 2s 1ms/step - loss: 0.0756 - accuracy: 0.9775 - val_loss: 0.1147 - val_accuracy: 0.9616\n",
      "Epoch 4/10\n",
      "1875/1875 [==============================] - 2s 1ms/step - loss: 0.0558 - accuracy: 0.9828 - val_loss: 0.1057 - val_accuracy: 0.9666\n",
      "Epoch 5/10\n",
      "1875/1875 [==============================] - 2s 1ms/step - loss: 0.0438 - accuracy: 0.9869 - val_loss: 0.1078 - val_accuracy: 0.9654\n",
      "Epoch 6/10\n",
      "1875/1875 [==============================] - 2s 1ms/step - loss: 0.0344 - accuracy: 0.9896 - val_loss: 0.0992 - val_accuracy: 0.9720\n",
      "Epoch 7/10\n",
      "1875/1875 [==============================] - 2s 1ms/step - loss: 0.0268 - accuracy: 0.9918 - val_loss: 0.0961 - val_accuracy: 0.9704\n",
      "Epoch 8/10\n",
      "1875/1875 [==============================] - 2s 1ms/step - loss: 0.0226 - accuracy: 0.9931 - val_loss: 0.0965 - val_accuracy: 0.9696\n",
      "Epoch 9/10\n",
      "1875/1875 [==============================] - 2s 1ms/step - loss: 0.0181 - accuracy: 0.9946 - val_loss: 0.1108 - val_accuracy: 0.9706\n",
      "Epoch 10/10\n",
      "1875/1875 [==============================] - 2s 1ms/step - loss: 0.0155 - accuracy: 0.9951 - val_loss: 0.1164 - val_accuracy: 0.9688\n",
      "157/157 [==============================] - 0s 882us/step - loss: 0.0386 - accuracy: 0.9884\n",
      "Test accuracy: 0.9883999824523926\n"
     ]
    }
   ],
   "source": [
    "import tensorflow as tf\n",
    "from tensorflow.keras.layers import Dense, Flatten\n",
    "from tensorflow.keras.models import Sequential\n",
    "from tensorflow.keras.datasets import mnist\n",
    "from tensorflow.keras.utils import to_categorical\n",
    "\n",
    "(train_images, train_labels), (test_images, test_labels) = mnist.load_data()\n",
    "\n",
    "dev_images = test_images[:5000]\n",
    "dev_labels = test_labels[:5000]\n",
    "test_images = test_images[5000:]\n",
    "test_labels = test_labels[5000:]\n",
    "\n",
    "train_images = train_images / 255.0\n",
    "dev_images = dev_images / 255.0\n",
    "test_images = test_images / 255.0\n",
    "\n",
    "train_labels = to_categorical(train_labels)\n",
    "dev_labels = to_categorical(dev_labels)\n",
    "test_labels = to_categorical(test_labels)\n",
    "\n",
    "model = Sequential([\n",
    "    Flatten(input_shape=(28, 28)),\n",
    "    Dense(128, activation='relu'),\n",
    "    Dense(10, activation='softmax')\n",
    "])\n",
    "\n",
    "model.compile(optimizer='adam',\n",
    "              loss='categorical_crossentropy',\n",
    "              metrics=['accuracy'])\n",
    "\n",
    "model.fit(train_images, train_labels, epochs=10, validation_data=(dev_images, dev_labels))\n",
    "\n",
    "test_loss, test_accuracy = model.evaluate(test_images, test_labels)\n",
    "print('Test accuracy:', test_accuracy)\n"
   ]
  },
  {
   "cell_type": "code",
   "execution_count": null,
   "metadata": {},
   "outputs": [],
   "source": []
  }
 ],
 "metadata": {
  "colab": {
   "name": "Copie de Lab6.ipynb",
   "provenance": [
    {
     "file_id": "https://github.com/jbscoggi/teaching/blob/master/Polytechnique/CSE204/Lab6.ipynb",
     "timestamp": 1576227403767
    }
   ]
  },
  "kernelspec": {
   "display_name": "Python 3 (ipykernel)",
   "language": "python",
   "name": "python3"
  },
  "language_info": {
   "codemirror_mode": {
    "name": "ipython",
    "version": 3
   },
   "file_extension": ".py",
   "mimetype": "text/x-python",
   "name": "python",
   "nbconvert_exporter": "python",
   "pygments_lexer": "ipython3",
   "version": "3.11.3"
  }
 },
 "nbformat": 4,
 "nbformat_minor": 4
}
